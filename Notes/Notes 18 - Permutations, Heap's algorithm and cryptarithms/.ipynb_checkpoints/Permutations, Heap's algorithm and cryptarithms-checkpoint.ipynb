{
 "cells": [
  {
   "cell_type": "code",
   "execution_count": null,
   "metadata": {},
   "outputs": [],
   "source": [
    "# Does not need to be executed if ~/.ipython/profile_default/ipython_config.py\n",
    "# exists and contains get_config().InteractiveShell.ast_node_interactivity = 'all'\n",
    "\n",
    "from IPython.core.interactiveshell import InteractiveShell\n",
    "InteractiveShell.ast_node_interactivity = 'all'"
   ]
  },
  {
   "cell_type": "code",
   "execution_count": null,
   "metadata": {
    "init_cell": true
   },
   "outputs": [],
   "source": [
    "from itertools import permutations"
   ]
  },
  {
   "cell_type": "markdown",
   "metadata": {},
   "source": [
    "To generate all permutations of a set $S$ of cardinality 2 at least, it suffices to, for each member $x$ of $S$, prepend or append $x$ to each permutation of $S\\setminus\\{x\\}$. This immediately translates into the following generator function:"
   ]
  },
  {
   "cell_type": "code",
   "execution_count": null,
   "metadata": {},
   "outputs": [],
   "source": [
    "def naive_recursive_permute(S):\n",
    "    if len(S) <= 1:\n",
    "        yield list(S)\n",
    "    else:\n",
    "        for x in S:\n",
    "            for P in naive_recursive_permute(S - {x}):\n",
    "                yield [x] + P\n",
    "                \n",
    "list(naive_recursive_permute({0}))\n",
    "list(naive_recursive_permute({0, 1}))\n",
    "list(naive_recursive_permute({0, 1, 2}))\n",
    "list(naive_recursive_permute({0, 1, 2, 3}))"
   ]
  },
  {
   "cell_type": "markdown",
   "metadata": {},
   "source": [
    "Given $n>0$ and a set $S$ of cardinality $n$, generating all permutations of $S$ with __naive_recursive_permute()__ requires generates $n!$ many lists, each of which\n",
    "\n",
    "* starts with a list $L_1$ of size 1,\n",
    "* before a new list $L_2$ which is the concatenation of $L_1$ with a new singleton list is created,\n",
    "* ...\n",
    "* before eventually, a new list which is the concatenation of $L_{n-1}$ with a new singleton list is created.\n",
    "\n",
    "So altogether, $(2n-1)\\times n!$ many lists are created."
   ]
  },
  {
   "cell_type": "markdown",
   "metadata": {},
   "source": [
    "The minimal operation to transform one permutation $P$ of $S$ into another permutation of $S$ is to exchange two of $P$'s elements. For instance, all 6 permutations of $\\{0,1,2\\}$ can be generated, starting with $(0,1,2)$, thanks to five successive swaps:\n",
    "\n",
    "* $(0,1,2)$\n",
    "* $(0,2,1)$ (after swapping 1 and 2)\n",
    "* $(2,0,1)$ (after swapping 0 and 2)\n",
    "* $(2,1,0)$ (after swapping 0 and 1)\n",
    "* $(1,2,0)$ (after swapping 2 and 1)\n",
    "* $(1,0,2)$ (after swapping 2 and 0)\n",
    "\n",
    "With this design, only one list is involved. A generator function can interrupt its execution with a __yield__ statement at every stage of transformation of the list, that can then be copied or not into a new list, depending on the application (if our aim is only to display all permutations, then there is no need to make copies, but if our aim is to create a structure that embeds some or all permutations of $S$, then copies would be needed).\n",
    "\n",
    "The key question is whether it is possible to, starting from a list of arbitrary length, exchange pairs of elements in such a way that all permutations of the list are eventually produced, without duplication; and in case that is possible, how to proceed."
   ]
  },
  {
   "cell_type": "markdown",
   "metadata": {},
   "source": [
    "Let a nonzero natural number $n$ be given. Heap's algorithm generates all permutations of a set $S$ with $n+1$ elements, in such a way that any permutation, the first one excepted, is obtained from the previous one by exchanging two of $S$'s elements. Without loss of generality, take for $S$ the set $\\{0,1,\\dots,n\\}$. The recursive version of Heap's algorithm can be illustrated as follows."
   ]
  },
  {
   "cell_type": "markdown",
   "metadata": {},
   "source": [
    "![](principle.pdf)"
   ]
  },
  {
   "cell_type": "markdown",
   "metadata": {},
   "source": [
    "So the algorithm generates all permutations of the form $L\\star n$, then all permutations of the form $L\\star m_0$, then all permutations of the form $L\\star m_1$, \\dots, and eventually all permutations of the form $L\\star m_{n-1}$. The scheme is correct if $\\{m_0,m_1,\\dots,m_{n-1}\\}=\\{0,\\dots,n-1\\}$: at every stage, the algorithm has to  select a new number from the first $n$ ones (and exchange it with the current $(n+1)$st number). Heap's algorithm uses the following strategy:\n",
    "\n",
    "* In case $n$ is odd, select the first number, then the second number, then the third number\\dots\n",
    "* In case $n$ is even, always select the first number."
   ]
  },
  {
   "cell_type": "markdown",
   "metadata": {},
   "source": [
    "The following diagram illustrates with $n=3$.\n",
    "\n",
    "![](recursive_example.pdf)"
   ]
  },
  {
   "cell_type": "markdown",
   "metadata": {},
   "source": [
    "We prove that Heap's algorithm is correct and that moreover, the following holds for all $n\\geq 1$:\n",
    "\n",
    "1. starting with $(0,1,2,\\dots, 2n)$, all permutations of $(0,1,2,\\dots, 2n)$ are generated, ending in $(2n,1,2,\\dots, 2n-1,0)$.\n",
    "2. starting with $(0,1,2,\\dots, 2n+1)$, all permutations of $(0,1,2,\\dots, 2n+1)$ are generated, ending in\n",
    "$(2n-1,2n,1,2,\\dots,2n-2,2n+1,0)$.\n",
    "\n",
    "For instance:\n",
    "\n",
    "* For the case of lists with an even number of elements:\n",
    "\n",
    "    * starting with $(0,1,2,3)$, Heap's algorithm produces $(1,2,3,0)$ as last permutation;\n",
    "    * starting with $(0,1,2,3,4,5)$, it produces $(3,4,1,2,5,0)$ as last permutation;\n",
    "    * starting with $(0,1,2,3,4,5,6,7)$, it produces $(5,6,1,2,3,4,7,0)$ as last permutation.\n",
    "* For the case of lists with an odd number of elements:\n",
    "\n",
    "    * starting with $(0,1,2)$, Heap's algorithm produces $(2,1,0)$ as last permutation;\n",
    "    * starting with $(0,1,2,3,4)$, it produces $(4,1,2,3,0)$ as last permutation;\n",
    "    * starting with $(0,1,2,3,4,5,6)$, it produces $(6,1,2,3,4,5,0)$ as last permutation.\n",
    "\n",
    "The previous formulas can be used to generalise Heap's algorithm and generate all sequences of $k$ numbers chosen from $\\{0,1,\\dots,n\\}$: when the last number has been selected, and the penultimate number has been selected, \\dots, and the $(n-k+1)$st number has been selected, it suffices to stop the recursion and ``simulate'' all permutations of the remaining $n+1-k$ numbers by applying those formulas.\n",
    "\n",
    "Proof of 1. and 2. is by induction. The base case $n=1$ is straightforward, so let $n\\geq 1$ be given, and assume that 1. holds. We show that 2. holds too.\n",
    "\n",
    "* Starting from $(0,1,2,\\dots,2n-1,2n)\\star 2n+1$, Heap's algorithm generates all permutations of the form $L\\star 2n+1$, ending with $(2n,1,2,\\dots,2n-1,0)\\star 2n+1$.\n",
    "* Permuting first and last elements, $(2n,1,2,\\dots,2n-1,0)\\star 2n+1$ is changed to $(2n+1,1,2,\\dots,2n-1,0)\\star 2n$. Starting from $(2n+1,1,2,\\dots,2n-1,0)\\star 2n$, the algorithm then generates all permutations of the form $L\\star 2n$, ending with $(0,1,2,\\dots,2n-1,2n+1)\\star 2n$.\n",
    "* Permuting second and last elements, $(0,1,2,\\dots,2n-1,2n+1)\\star 2n$ is changed to $(0,2n,2,\\dots,2n-1,2n+1)\\star 1$. Starting from $(0,2n,2,\\dots,2n-1,2n+1)\\star 1$, the algorithm then generates all permutations of the form $L\\star 1$, ending with $(2n+1,2n,2,\\dots,2n-1,0)\\star 1$.\n",
    "* Permuting third and last elements, $(2n+1,2n,2,\\dots,2n-1,0)\\star 1$ is changed to $(2n+1,2n,1,3\\dots,2n-1,0)\\star 2$. Starting from $(2n+1,2n,1,3\\dots,2n-1,0)\\star 2$, the algorithm then generates all permutations of the form $L\\star 2$, ending with $(0,2n,1,3\\dots,2n-1,2n+1)\\star 2$.\n",
    "* Permuting fourth and last elements, $(0,2n,1,3\\dots,2n-1,2n+1)\\star 2$ is changed to $(2n+1,2n,1,2\\dots,2n-1,0)\\star 3$. Starting from $(2n+1,2n,1,2\\dots,2n-1,0)\\star 3$, the algorithm then generates all permutations of the form $L\\star 3$... till all permutations of the form $L\\star 2n-1$, ending in $(2n+1,2n,1,2,\\dots,2n-2,0)\\star 2n-1$.\n",
    "* Permuting last two elements, $(2n+1,2n,1,2,\\dots,2n-2,0)\\star 2n-1$ is changed to $(2n+1,2n,1,2,\\dots,2n-2,2n-1)\\star 0$. Starting from $(2n+1,2n,1,2,\\dots,2n-2,2n-1)\\star 0$, the algorithm then generates all permutations of the form $L\\star 0$, ending with $(2n-1,2n,1,2,\\dots,2n-2,2n+1)\\star 0$.\n",
    "\n",
    "So we have established that 2. holds.\n",
    "\n",
    "Now assume that 2. holds. We show that 1. with $n$ replaced by $n+1$ holds too. The inner circle of the following diagram shows how elements move from one position to another one after all permutations of a list consisting of the $2n+2$ numbers 0, ..., $2n+1$ have been performed by Heap's algorithm. For instance, the first element ends up as the last element, moving from position (index) 0 and eventually ending up at position (index) $2n+1$. After all permutations of $(0,1,2,\\dots,2n,2n+1)$ have been generated, ending in $(2n-1,2n,1,2,\\dots,2n-2,2n+1,0)$, so after all permutations of $(0,1,2,\\dots,2n,2n+1)\\star 2n+2$ have been generated, ending in $(2n-1,2n,1,2,\\dots,2n-2,2n+1,0)\\star 2n+2$, Heap's algorithm replaces the element now at position 0, that is, $2n-1$ (originally at position $2n-1$), with $2n+2$. This is depicted in the following diagram with $2n+2$ on the outer circle facing $2n-1$ on the inner circle. At the end of each of the following stages, the algorithm permutes the element currently at position 0 with the element currently at position $2n+2$, that is, the element at position 0 at the end of previous stage. Hence as illustrated in the diagram, move to position $2n+2$: first $2n-1$ replaced by $2n+2$, then $2n-2$ replaced by $2n-1$, ..., then 2 replaced by 3, then 1 replaced by 2, then $2n$ replaced by 1, then $2n+1$ replaced by $2n$, and eventually 0 replaced by $2n+1$. Finally, all permutations of the numbers then at position 0, ..., $2n+1$ (those numbers being  1, 2, ..., $2n+2$) are generated, corresponding to a last, $(2n+2)$nd rotation in the following diagram, hence rotation following a ``full circle''. This means that:\n",
    "\n",
    "* ends up at position 0 the element which at the beginning of this last round of permutations, is a position $2n-1$, that is, $2n+2$,\n",
    "* ends up at position 1 the element which at the beginning of this last round of permutations, is a position $2n$, that is, $1$,\n",
    "* ...\n",
    "\n",
    "resulting in the final list $(2n+2,1,2,3,\\dots,2n-1,2n,2n+1)\\star 0$. So we have established that 1. with $n$ replaced by $n+1$ holds.\n",
    "\n",
    "![](cycle.pdf)"
   ]
  },
  {
   "cell_type": "markdown",
   "metadata": {},
   "source": [
    "Heap's algorithm naturally translates into the following recursive implementation:"
   ]
  },
  {
   "cell_type": "code",
   "execution_count": null,
   "metadata": {},
   "outputs": [],
   "source": [
    "def heap_permute_by_recursion(L):\n",
    "    yield from recursive_heap_permute(L, len(L))\n",
    "    \n",
    "def recursive_heap_permute(L, length):\n",
    "    if length <= 1:\n",
    "        yield L\n",
    "    else:\n",
    "        length -= 1\n",
    "        for i in range(length):\n",
    "            yield from recursive_heap_permute(L, length)\n",
    "            if length % 2:\n",
    "                L[i], L[length] = L[length], L[i]\n",
    "            else:\n",
    "                L[0], L[length] = L[length], L[0]\n",
    "        yield from recursive_heap_permute(L, length)\n",
    "        \n",
    "list(list(L) for L in heap_permute_by_recursion([0]))\n",
    "list(list(L) for L in heap_permute_by_recursion([0, 1]))\n",
    "list(list(L) for L in heap_permute_by_recursion([0, 1, 2]))\n",
    "list(list(L) for L in heap_permute_by_recursion([0, 1, 2, 3]))"
   ]
  },
  {
   "cell_type": "markdown",
   "metadata": {},
   "source": [
    "The following function traces the execution of the recursive implementation of Heap's algorithm:"
   ]
  },
  {
   "cell_type": "code",
   "execution_count": null,
   "metadata": {},
   "outputs": [],
   "source": [
    "def trace_recursive_heap_permute(L, length, depth):\n",
    "    if length <= 1:\n",
    "        print('    ' * depth, f'Yield {L}')\n",
    "        yield L\n",
    "    else:\n",
    "        length -= 1\n",
    "        for i in range(length):\n",
    "            print('    ' * depth, f'Yield permutations of {L[: length]} '\n",
    "                                  f'extended with {L[length: ]}'\n",
    "                 )\n",
    "            yield from trace_recursive_heap_permute(L, length, depth + 1)\n",
    "            if length % 2:\n",
    "                L[i], L[length] = L[length], L[i]\n",
    "                print('    ' * depth, f'Exchanging L[{i}] and L[{length}]',\n",
    "                                      '->', L\n",
    "                     )\n",
    "            else:\n",
    "                L[0], L[length] = L[length], L[0]\n",
    "                print('    ' * depth, f'Exchanging L[{0}] and L[{length}]',\n",
    "                                      '->', L\n",
    "                     )\n",
    "        print('    ' * depth, f'Yield permutations of {L[: length]} '\n",
    "                              f'extended with {L[length: ]}'\n",
    "             )\n",
    "        yield from trace_recursive_heap_permute(L, length, depth + 1)\n",
    "\n",
    "for _ in trace_recursive_heap_permute([0, 1, 2, 3], 4, 0): pass;"
   ]
  },
  {
   "cell_type": "markdown",
   "metadata": {},
   "source": [
    "We see that __recursive_heap_permute()__ yields its first argument __L__, and then essentially, again and again, exchanges two elements of __L__ and yields __L__ in its new state, through a chain of recursive calls of various lengths. Converting the recursive implementation of Heap's algorithm into an iterative implementation requires to know, after every exchange except the last one, which exchange to perform next. It is not enough to know the last exchange, if some took place already. Indeed, a given exchange often happens many times in the overall sequence of exchanges, and all the more often that it is associated with a smaller second argument __length__; one has to be able to identify where in the overall sequence a given exchange happens. Taking as before the case $n=3$ as an example, and referring to the corresponding illustration and the chosen colours, the principle can be described in reference to the illustration below:\n",
    "\n",
    "* There are 4 groups with as separators, the red exchanges. One can know in which of these 4 groups we are by noting $(0,3)$ for the first group, $(1,3)$ for the second group, $(2,3)$ for the third group, and nothing for the fourth group.\n",
    "* Within such a group, there are 3 groups with as separators, the blue exchanges. One can know in which of these 3 groups we are by noting $(0,2)$ for the first group, $(1,2)$ for the second group, and nothing for the third group.\n",
    "* Within such a group, there are 2 groups with as separator, the green exchange. One can know in which of these 2 groups we are by noting $(0,1)$ for the first group, and nothing for the second group.\n",
    "\n",
    "Stacking up those existing pairs, listed from bottom to top in the order previously described, one has then all the information one needs:\n",
    "\n",
    "* The next exchange to perform can be identified from the pair at the top, which can then then be popped from the top of the stack as the exchange is executed.\n",
    "* One then moves one position in the overall sequence of exchanges, which requires pushing to the top of the stack at least one pair of numbers, in accordance with the principle just described; if a pair of the form $(i,m)$ has been popped off the stack, then what to push to the top of the stack is:\n",
    "\n",
    "    * $(i+1,m)$ if $i<m-1$, followed by\n",
    "    * $(0,m-1)$, $(0,m-2)$, ... $(0,1)$\n",
    "    \n",
    "The picture below represents, at the bottom, the various states of the stack, before the first exchange, between successive exchanges and after the last exchange, and below each exchange, the pair of numbers popped from the top of the stack. "
   ]
  },
  {
   "cell_type": "markdown",
   "metadata": {},
   "source": [
    "![](iterative_example.pdf)"
   ]
  },
  {
   "cell_type": "markdown",
   "metadata": {},
   "source": [
    "These observations result in the followed iterative implementation of Heap's algorithm, using a list for the stack, the element at the end of the list corresponding to the element at the top of the stack, and using the list's __pop()__ and __append()__ methods for popping the element at the top of the stack and pushing an element to the top of the stack, respectively:"
   ]
  },
  {
   "cell_type": "code",
   "execution_count": null,
   "metadata": {},
   "outputs": [],
   "source": [
    "def iterative_heap_permute(L):\n",
    "    yield L\n",
    "    stack = [(0, i) for i in range(len(L) - 1, 0, -1)]\n",
    "    while stack:\n",
    "        low, high = stack.pop()\n",
    "        if high % 2:\n",
    "            L[low], L[high] = L[high], L[low]\n",
    "        else:\n",
    "            L[0], L[high] = L[high], L[0]\n",
    "        yield L\n",
    "        if low + 1 != high:\n",
    "            stack.append((low + 1, high))\n",
    "        for i in range(high - 1, 0, -1):\n",
    "            stack.append((0, i))\n",
    "\n",
    "list(list(L) for L in iterative_heap_permute([0]))\n",
    "list(list(L) for L in iterative_heap_permute([0, 1]))\n",
    "list(list(L) for L in iterative_heap_permute([0, 1, 2]))\n",
    "list(list(L) for L in iterative_heap_permute([0, 1, 2, 3]))"
   ]
  },
  {
   "cell_type": "markdown",
   "metadata": {},
   "source": [
    "The following function traces the execution of the iterative implementation of Heap's algorithm:"
   ]
  },
  {
   "cell_type": "code",
   "execution_count": null,
   "metadata": {},
   "outputs": [],
   "source": [
    "def trace_iterative_heap_permute(L):\n",
    "    print('Yield', L)\n",
    "    yield L\n",
    "    stack = [(0, i) for i in range(len(L) - 1, 0, -1)]\n",
    "    print(f'stack is {stack}', end = '')\n",
    "    while stack:\n",
    "        low, high = stack.pop()\n",
    "        print(f' ... popping ({low}, {high})')\n",
    "        if high % 2:\n",
    "            L[low], L[high] = L[high], L[low]\n",
    "            print(f'Exchanging L[{low}] and L[{high}]', '->', L)\n",
    "        else:\n",
    "            L[0], L[high] = L[high], L[0]\n",
    "            print(f'Exchanging L[0] and L[{high}]', '->', L)\n",
    "        print('Yield', L)\n",
    "        yield L\n",
    "        if low + 1 != high:\n",
    "            stack.append((low + 1, high))\n",
    "        for i in range(high - 1, 0, -1):\n",
    "            stack.append((0, i))\n",
    "        print(f'Stack is {stack}', end = '')\n",
    "            \n",
    "for _ in trace_iterative_heap_permute([0, 1, 2, 3]): pass;"
   ]
  },
  {
   "cell_type": "markdown",
   "metadata": {},
   "source": [
    "A cryptarithm is a puzzle where words, written in all uppercase, are combined with some of the binary operators __+__, __\\*__, __-__, __/__ and __\\*\\*__ and one occurrence of the binary relational operator __==__, some subexpressions being possibly parenthesised, so that the resulting expression is syntactically correct. Each letter should then be assigned a single digit, different to 0 in case the letter occurs at the beginning of a word, in such a way that replacing each occurrence of a letter by the digit assigned to it, the resulting arithmetic expression is valid. An example of cryptarithm is __DO + YOU + FEEL == LUCKY__: assigning\n",
    "\n",
    "* __0__ to __U__\n",
    "* __1__ to __L__\n",
    "* __3__ to __C__\n",
    "* __4__ to __E__\n",
    "* __5__ to __D__\n",
    "* __6__ to __K__\n",
    "* __7__ to __O__\n",
    "* __8__ to __Y__\n",
    "* __9__ to __F__\n",
    "\n",
    "results in the arithmetic equation __57 + 870 + 9441 == 10368__, which indeed holds (it is actually the only solution to the cryptarithm).\n",
    "\n",
    "We represent a cryptarithm as a string where spaces can occur anywhere, of course except within words:"
   ]
  },
  {
   "cell_type": "code",
   "execution_count": null,
   "metadata": {},
   "outputs": [],
   "source": [
    "cryptarithm = 'DO + YOU + FEEL == LUCKY'"
   ]
  },
  {
   "cell_type": "markdown",
   "metadata": {},
   "source": [
    "First, we determine the set of letters that occur at the start of a word in the cryptarithm, and the set of letters that occur in the cryptarithm, but never at the beginning of a word. We initialise both sets to the empty set:"
   ]
  },
  {
   "cell_type": "code",
   "execution_count": null,
   "metadata": {},
   "outputs": [],
   "source": [
    "letters_starting_a_word = set()\n",
    "letters_not_starting_a_word = set()"
   ]
  },
  {
   "cell_type": "markdown",
   "metadata": {},
   "source": [
    "We process each character __c__ in __cryptarithm__. When __c__ starts a word, the variable __in_word__, initialised to __False__, has the value __False__; we change it to __True__ and add __c__ to __letters_starting_a_word__. When __c__ is within a word but is not the word's first letter, __in_word__ has the value __True__ and we add __c__ to __letters_not_starting_a_word__. When __c__ is not within a word, then we set the value of __in_word__ to __False__, which is necessary only if __c__ directly follows a word (otherwise, __in_word__ is currently set to __False__, which is harmlessly overwritten with __False__): "
   ]
  },
  {
   "cell_type": "code",
   "execution_count": null,
   "metadata": {},
   "outputs": [],
   "source": [
    "in_word = False\n",
    "for c in cryptarithm:\n",
    "    if str.isalpha(c):\n",
    "        if not in_word:\n",
    "            letters_starting_a_word.add(c)\n",
    "            in_word = True\n",
    "        else:\n",
    "            letters_not_starting_a_word.add(c)\n",
    "    else:\n",
    "        in_word = False\n",
    "\n",
    "letters_starting_a_word\n",
    "letters_not_starting_a_word"
   ]
  },
  {
   "cell_type": "markdown",
   "metadata": {},
   "source": [
    "Some of the letters might have been found out to occur both at the start of some words, and within but not at the start of some words. We want __letters_starting_a_word__ and __letters_not_starting_a_word__ to eventually be disjoint, so remove from the latter the letters that occur in the former:"
   ]
  },
  {
   "cell_type": "code",
   "execution_count": null,
   "metadata": {},
   "outputs": [],
   "source": [
    "letters_not_starting_a_word -= letters_starting_a_word\n",
    "letters_not_starting_a_word"
   ]
  },
  {
   "cell_type": "markdown",
   "metadata": {},
   "source": [
    "We then create a list consisting of all letters in __letters_not_starting_a_word__ and __letters_starting_a_word__, the latter following the former:"
   ]
  },
  {
   "cell_type": "code",
   "execution_count": null,
   "metadata": {},
   "outputs": [],
   "source": [
    "all_letters = list(letters_not_starting_a_word) +\\\n",
    "              list(letters_starting_a_word)\n",
    "all_letters"
   ]
  },
  {
   "cell_type": "markdown",
   "metadata": {},
   "source": [
    "A potential solution will be created by:\n",
    "\n",
    "* assigning a distinct nonzero digit to each letter in __['D', 'L', 'F', 'Y']__ (so 4 digits altogether), and\n",
    "* assigning a distinct digit, not previously used, and possibly equal to 0, to each letter in __['C', 'U', 'K', 'E', 'O']__ (so 5 digits altogether).\n",
    "\n",
    "We proceed as follows. Let __digits__ be __['0', '1', '2', '3', '4', '5', '6', '7', '8', '9']__ (we will see later the technical reason why we take for __digits__ a list of digit characters rather than a list of digits; will still refer to the members of __digits__ as digits).\n",
    "\n",
    "* To assign candidate digits to __['D', 'L', 'F', 'Y']__, we \"ignore\" 0, so operate on __digits[1: ]__, being interested in __digits[-4: ]__, to go through all of the $9\\times 8\\times 7\\times 6$ possible ways of assigning 4 distinct nonzero digits to the last 4 positions in __digits__. To this aim, we essentially use __recursive_heap_permute()__  to determine __digits[-1]__, ..., __digits[-4]__, but we then do not want to go through the $5!$ possible ways of assigning the remaining 5 nonzero digits to __digits[5]__, ..., __digits[1]__: after __digits[6: ]__ has been fixed, we only want to \"jump over\" the last 5 recursive calls to __recursive_heap_permute()__ that operate on __digits[1: 6]__, exploiting the theoretical fact that we established above, namely, that by starting with __['1', '2', '3', '4', '5']__, Heap's algorithm yields __['5', '2', '3', '4', '1']__ as last permutation (since by starting with $(0,1,2,3,4)$, it yields $(4,1,2,3,0)$ as last permutation).\n",
    "* To assign candidate digits to __['C', 'U', 'K', 'E', 'O']__, we operate on __digits[: 6]__, being interested in __digits[1: 6]__, to go through all of the $6!$ possible ways to assign 5 distinct digits to __digits[1]__, .... __digits[5]__, amongst those not occupying __digits[6: ]__. Because only one, unassigned but known digit will remain (in __digits[0]__), there is no need to \"jump over\" recursive calls; if __all_letters__ was less than 9 characters long, we would then exploit again our knowledge of what is the last permutation that Heap's algorithm produces when operating on a list of a given size."
   ]
  },
  {
   "cell_type": "markdown",
   "metadata": {},
   "source": [
    "The following function, __permute()__, is designed to permute the last __length__ members of __digits[: start + size]__, using __size__ many indexes in __digits__, the first of which is __start__. It will be called to assign candidate digits first to __letters_starting_a_word__, and then to __letters_not_starting_a_word__. It assumes that __length__ is at most equal to __size__. More precisely, to assign distinct nonzero digits to the letters in __['D', 'L', 'F', 'Y']__, it will first be called as __permute(digits, 1, 9, len(letters_starting_a_word))__, that is, __permute(digits, 1, 9, 4)__, and to assign other distinct digits (one of which is possibly 0) to the letters in __['C', 'U', 'K', 'E', 'O']__, it will then be called as __permute(digits, 0, 9 - len(letters_starting_a_word), len(letters_not_starting_a_word))__, that is, __permute(digits, 0, 5, 5)__.\n",
    "\n",
    "At the top level, __permute(digits, start, size, length)__ determines the __length__'th  digit of __digits[start: start + size]__; recursive calls to __permute(digits, start, size - 1, length - 1)__ determine the __(length - 1)__'st  digit of __digits[start: start + size - 1]__... until recursive calls to __permute(digits, start, size - length, 0)__ yield __None__, with the last __length__ many digits of __digits[: start + size]__ set to a particular assignment of digits to letters.\n",
    "\n",
    "We start implementing __permute()__, dealing with the case where __length__ is equal to 0. Then the generator function pauses with a __yield__ statement, so that __digits__ can be used in its current state. For now we comment out the __yield__ statement, as we first focus on implementing correctly the \"jump over\" the last recursive calls that we previously discussed, and checking that that part of the code works in accordance with the theoretical results that we established above, namely:\n",
    "\n",
    "* the last permutation of $(0,1,2,\\dots, 2n)$ ends in $(2n,1,2,\\dots, 2n-1,0)$.\n",
    "* the last permutation of $(0,1,2,\\dots, 2n+1)$ ends in $(2n-1,2n,1,2,\\dots,2n-2,2n+1,0)$.\n",
    "\n",
    "We need to distinguish between the cases where __size__ is even or odd, but __size__ equal to 2 or 4 are best treated as special cases. Also, in case __size__ is equal to 1 when __length__ is equal to 0, the digit at position __start__ is the unique unassigned digit in the section of __digits__ that __permute()__ has been operating on; a permutation of 1 element does not need to be \"jumped over\" (if __size__ was equal to 1, then the body of the __if__ statement below would just exchange __L[start]__ with itself):"
   ]
  },
  {
   "cell_type": "code",
   "execution_count": null,
   "metadata": {},
   "outputs": [],
   "source": [
    "def permute(digits, start, size, length):\n",
    "    if length == 0:\n",
    "#        yield\n",
    "        if size > 1:\n",
    "            # \"Simulates\" the permutation of the \"size\"\n",
    "            # first elements of L[start: ] by computing\n",
    "            # what would be the last permutation.\n",
    "            if size % 2 or size == 2:\n",
    "                digits[start], digits[start + size - 1] =\\\n",
    "                                  digits[start + size - 1], digits[start]\n",
    "            elif size == 4:\n",
    "                digits[start: start + 3], digits[start + 3] =\\\n",
    "                              digits[start + 1: start + 4], digits[start]\n",
    "            else:\n",
    "                digits[start: start + 2],\n",
    "                digits[start + 2: start + size - 2],\\\n",
    "                digits[start + size - 2],\n",
    "                digits[start + size - 1] =\\\n",
    "                             digits[start + size - 3: start + size - 1],\\\n",
    "                             digits[start + 1: start + size - 3],\n",
    "                             digits[start + size - 1],\n",
    "                             digits[start]\n",
    "    print(digits[: size], digits[size: ])\n",
    "\n",
    "for size in range(2, 10):\n",
    "    permute([str(i) for i in range(10)], 0, size, 0)"
   ]
  },
  {
   "cell_type": "markdown",
   "metadata": {},
   "source": [
    "We now complete the implementation of __permute()__, which is essentially the same as that of __recursive_heap_permute()__:"
   ]
  },
  {
   "cell_type": "code",
   "execution_count": null,
   "metadata": {},
   "outputs": [],
   "source": [
    "def permute(digits, start, size, length):\n",
    "    if length == 0:\n",
    "        yield\n",
    "        if size > 1:\n",
    "            # \"Simulates\" the permutation of the \"size\"\n",
    "            # first elements of L[start: ] by computing\n",
    "            # what would be the last permutation.\n",
    "            if size % 2 or size == 2:\n",
    "                digits[start], digits[start + size - 1] =\\\n",
    "                                  digits[start + size - 1], digits[start]\n",
    "            elif size == 4:\n",
    "                digits[start: start + 3], digits[start + 3] =\\\n",
    "                              digits[start + 1: start + 4], digits[start]\n",
    "            else:\n",
    "                digits[start: start + 2],\n",
    "                digits[start + 2: start + size - 2],\\\n",
    "                digits[start + size - 2],\n",
    "                digits[start + size - 1] =\\\n",
    "                             digits[start + size - 3: start + size - 1],\\\n",
    "                             digits[start + 1: start + size - 3],\n",
    "                             digits[start + size - 1],\n",
    "                             digits[start]\n",
    "\n",
    "    else:\n",
    "        size -= 1\n",
    "        length -= 1\n",
    "        for i in range(size):\n",
    "            yield from permute(digits, start, size, length)\n",
    "            if size % 2:\n",
    "                digits[start + i], digits[start + size] =\\\n",
    "                                  digits[start + size], digits[start + i]\n",
    "            else:\n",
    "                digits[start], digits[start + size] =\\\n",
    "                                      digits[start + size], digits[start]\n",
    "        yield from permute(digits, start, size, length)"
   ]
  },
  {
   "cell_type": "markdown",
   "metadata": {},
   "source": [
    "As previously mentioned, __permute()__ will be called twice: once to assign candidate digits to __letters_starting_a_word__, and a second time to assign candidate digits to __letters_not_starting_a_word__. Such is the purpose of the following function, __generate_possible_solutions()__, whose second argument, __length_1__, is meant to receive the value __len(letters_starting_a_word)__, while its third argument, __length_2__, is meant to receive the value __len(letters_not_starting_a_word)__. After the second call to __permute()__, __generate_possible_solutions()__ can pause so that __digits__ can be used in its current state, with the last __length_1__ members of __digits__ taking some nonzero values to assign to __letters_starting_a_word__, whose members make up the end of __all_letters__, and with the __length_2__ previous members of __digits__ taking some values (with 0 possibly included) to assign to __letters_not_starting_a_word__, whose members make up the beginning of __all_letters__.\n",
    "\n",
    "When __permute(digits, 1, 9, adjusted_length_1)__ pauses, we save the __10 - length_1__ first members of __digits__, to resume the search for candidate digits for __letters_starting_a_word__ after the search for candidates digits for __letters_not_starting_a_word__, operating on those __10 - length_1__ first members of __digits__, has completed: that section of __digits__ can then be restored to its state before __permute(digits, 0, size, adjusted_length_2)__ was called, so that __permute(digits, 1, 9, adjusted_length_1)__ can resume execution where it left.\n",
    "\n",
    "A second aspect of __generate_possible_solutions()__ is that __length_1__ or __length_2__ can be decreased by 1, in case their values are such that one element of the permutations of digits of length __length_1__ or __length_2__, respectively, that __generate_possible_solutions()__ is meant to produce, is fully determined by the others; it is a minor optimisation:"
   ]
  },
  {
   "cell_type": "code",
   "execution_count": null,
   "metadata": {},
   "outputs": [],
   "source": [
    "def generate_possible_solutions(digits, length_1, length_2):\n",
    "    adjusted_length_2 = length_2\n",
    "    # Once nonzero digits have been allocated to all letters\n",
    "    # starting a word, if all digits that remain have to be used\n",
    "    # for the letters not starting a word, then there is no need\n",
    "    # to allocate the last one once all others have been allocated.\n",
    "    if length_2 == 10 - length_1:\n",
    "        adjusted_length_2 -= 1\n",
    "    adjusted_length_1 = length_1\n",
    "    # If all nonzero digits have to be used for the letters\n",
    "    # starting a word, then there is no need to allocate\n",
    "    # the last one once all others have been allocated.\n",
    "    if length_1 == 9:\n",
    "        adjusted_length_1 -= 1\n",
    "    size = 10 - length_1\n",
    "    for _ in permute(digits, 1, 9, adjusted_length_1):\n",
    "        first_size_digits = list(digits[: size])\n",
    "        yield from permute(digits, 0, size, adjusted_length_2)\n",
    "        digits[: size] = first_size_digits"
   ]
  },
  {
   "cell_type": "markdown",
   "metadata": {},
   "source": [
    "To replace letters by digits in a string, __str.maketrans()__ together with __str.translate()__ offer a good solution. When provided as arguments two strings of the same length __str.maketrans()__ creates a dictionary whose keys and values are the point codes of the characters in both strings, position by position:"
   ]
  },
  {
   "cell_type": "code",
   "execution_count": null,
   "metadata": {},
   "outputs": [],
   "source": [
    "str.maketrans('ABCD', 'abcd')\n",
    "'BCDEBCDE'.translate(str.maketrans('ABCD', 'abcd'))"
   ]
  },
  {
   "cell_type": "markdown",
   "metadata": {},
   "source": [
    "When __str.maketrans()__ receives a single argument, that argument can be a dictionary whose keys and values are the characters to replace and the replacing characters, respectively:"
   ]
  },
  {
   "cell_type": "code",
   "execution_count": null,
   "metadata": {},
   "outputs": [],
   "source": [
    "dict(zip(['A', 'B', 'C', 'D'], ['a', 'b', 'c', 'd']))\n",
    "str.maketrans(dict(zip(['A', 'B', 'C', 'D'], ['a', 'b', 'c', 'd'])))\n",
    "'BCDEBCDE'.translate(str.maketrans(dict(zip(['A', 'B', 'C', 'D'],\n",
    "                                            ['a', 'b', 'c', 'd']\n",
    "                                           )\n",
    "                                       )\n",
    "                                  )\n",
    "                    )"
   ]
  },
  {
   "cell_type": "markdown",
   "metadata": {},
   "source": [
    "For our purpose, it seems preferable to avoid creating strings from lists and make use of the second option:"
   ]
  },
  {
   "cell_type": "code",
   "execution_count": null,
   "metadata": {},
   "outputs": [],
   "source": [
    "all_letters\n",
    "cryptarithm\n",
    "\n",
    "digits = ['0', '5', '3', '8', '4', '2', '9', '7', '1', '6']\n",
    "cryptarithm.translate(str.maketrans(dict(zip(all_letters, digits))))\n",
    "\n",
    "digits = ['3', '0', '6', '4', '7', '5', '1', '9', '8']\n",
    "cryptarithm.translate(str.maketrans(dict(zip(all_letters, digits))))"
   ]
  },
  {
   "cell_type": "markdown",
   "metadata": {},
   "source": [
    "Checking whether the assignment of digits to the letters in the cryptarithm is a solution is then easy with the __eval()__ function, which can be used to evaluate any syntactically correct Python statement, and for that reason, is not safe and should not be used in applications where malicious attacks are possible:"
   ]
  },
  {
   "cell_type": "code",
   "execution_count": null,
   "metadata": {},
   "outputs": [],
   "source": [
    "eval('24 + 145 + 7889 == 95031')\n",
    "eval('57 + 870 + 9441 == 10368')"
   ]
  },
  {
   "cell_type": "markdown",
   "metadata": {},
   "source": [
    "Putting things together:"
   ]
  },
  {
   "cell_type": "code",
   "execution_count": null,
   "metadata": {},
   "outputs": [],
   "source": [
    "digits = [str(i) for i in range(10)]\n",
    "for _ in generate_possible_solutions(digits,\n",
    "                                     len(letters_starting_a_word),\n",
    "                                     len(letters_not_starting_a_word)\n",
    "                                    ):\n",
    "    equation = cryptarithm.translate(\n",
    "                    str.maketrans(dict(zip(all_letters,\n",
    "                                           digits[10 - len(all_letters): ]\n",
    "                                          )\n",
    "                                      )\n",
    "                                 )\n",
    "                                    )\n",
    "    if eval(equation): \n",
    "        print(equation)"
   ]
  },
  {
   "cell_type": "markdown",
   "metadata": {},
   "source": [
    "We could with less work, but learning much less, have designed the cryptarithm solver making use of the __permutations__ function from the __functools__ module, discarding permutations that assign 0 to the letters in __letters_starting_a_word__; __permutations()__ takes as optional second argument argument a number which can be less than the number of elements in the iterable passed as first argument, and that plays the role of __length__ in our implementation of __permute()__ (with __start__ set to 0 and __size__ to the length of the first argument):"
   ]
  },
  {
   "cell_type": "code",
   "execution_count": null,
   "metadata": {},
   "outputs": [],
   "source": [
    "list(permutations(range(4), 0))\n",
    "tuple(permutations(range(4), 2))\n",
    "set(permutations(range(4)))"
   ]
  }
 ],
 "metadata": {
  "kernelspec": {
   "display_name": "Python 3",
   "language": "python",
   "name": "python3"
  },
  "language_info": {
   "codemirror_mode": {
    "name": "ipython",
    "version": 3
   },
   "file_extension": ".py",
   "mimetype": "text/x-python",
   "name": "python",
   "nbconvert_exporter": "python",
   "pygments_lexer": "ipython3",
   "version": "3.6.5"
  },
  "latex_envs": {
   "LaTeX_envs_menu_present": true,
   "autoclose": false,
   "autocomplete": true,
   "bibliofile": "biblio.bib",
   "cite_by": "apalike",
   "current_citInitial": 1,
   "eqLabelWithNumbers": true,
   "eqNumInitial": 1,
   "hotkeys": {
    "equation": "Ctrl-E",
    "itemize": "Ctrl-I"
   },
   "labels_anchors": false,
   "latex_user_defs": false,
   "report_style_numbering": false,
   "user_envs_cfg": false
  },
  "toc": {
   "base_numbering": 1,
   "nav_menu": {},
   "number_sections": true,
   "sideBar": true,
   "skip_h1_title": false,
   "title_cell": "Table of Contents",
   "title_sidebar": "Contents",
   "toc_cell": false,
   "toc_position": {},
   "toc_section_display": true,
   "toc_window_display": false
  }
 },
 "nbformat": 4,
 "nbformat_minor": 2
}
