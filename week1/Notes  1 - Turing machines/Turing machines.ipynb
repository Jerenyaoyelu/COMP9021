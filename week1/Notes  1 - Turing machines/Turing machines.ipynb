{
 "cells": [
  {
   "cell_type": "code",
   "execution_count": null,
   "metadata": {},
   "outputs": [],
   "source": [
    "# Does not need to be executed if ~/.ipython/profile_default/ipython_config.py\n",
    "# exists and contains get_config().InteractiveShell.ast_node_interactivity = 'all'\n",
    "\n",
    "from IPython.core.interactiveshell import InteractiveShell\n",
    "InteractiveShell.ast_node_interactivity = 'all'"
   ]
  },
  {
   "cell_type": "markdown",
   "metadata": {},
   "source": [
    "A Turing Machine (TM) is an idealised model of a computer. Whereas real computers have finite memory, a TM has infinite memory, represented as a tape of consecutive cells, each of which contains either the bit 0 or the bit 1, that extends infinitely both left and right. To represent a finite section of the tape of a TM, a Python _list_ is appropriate. We just need to define a list of 0's and 1's and let a _variable_, say __tape__, refer to that list. This is a particular kind of _statement_: an _assignment_. One the line that precedes the statement and following the statement are two _comments_:"
   ]
  },
  {
   "cell_type": "code",
   "execution_count": null,
   "metadata": {},
   "outputs": [],
   "source": [
    "# 6 consecutive cells of a TM\n",
    "tape = [0, 0, 1, 1, 1, 0] # Some cells contain 0, others contain 1\n",
    "tape"
   ]
  },
  {
   "cell_type": "markdown",
   "metadata": {},
   "source": [
    "To more conveniently create a list with a repeating pattern (e.g., a list consisting of nothing but 0's, or a list consisting of nothing but 1's, or a list where 0's and 1's alternate), one can use the __*__ binary _operator_. When both operands are numbers, __*__ is multiplication:"
   ]
  },
  {
   "cell_type": "code",
   "execution_count": null,
   "metadata": {},
   "outputs": [],
   "source": [
    "3 * 5"
   ]
  },
  {
   "cell_type": "markdown",
   "metadata": {},
   "source": [
    "When one operand is a list $L$ and the other operand a natural number $n$, __*__ duplicates $L$ $n$ many times:"
   ]
  },
  {
   "cell_type": "code",
   "execution_count": null,
   "metadata": {},
   "outputs": [],
   "source": [
    "[0] * 0 # The empty list\n",
    "1 * [0]\n",
    "[1] * 7\n",
    "5 * [0, 1]"
   ]
  },
  {
   "cell_type": "markdown",
   "metadata": {},
   "source": [
    "One can refer to individual members of a list via their _index_, in relation to an increasing enumeration of its elements from left to right, starting with 0, or in relation to a decreasing enumeration of its elements from right to left, starting with -1. To illustrate this claim, we use the __print()__ _function_. This function takes an arbitrary number of _arguments_, and outputs a representation of those arguments; by default, the representations of two consecutive arguments are separated by a space. In both invocations of __print()__ below, __print()__ receives 6 arguments:"
   ]
  },
  {
   "cell_type": "code",
   "execution_count": null,
   "metadata": {},
   "outputs": [],
   "source": [
    "print(tape[0], tape[1], tape[2], tape[3], tape[4], tape[5])\n",
    "print(tape[-1], tape[-2], tape[-3], tape[-4], tape[-5], tape[-6])"
   ]
  },
  {
   "cell_type": "markdown",
   "metadata": {},
   "source": [
    "So the positive index of the last element of a nonempty list is equal to the length of the list minus 1, and the negative index of the first element of a nonempty list is equal to minus the length of the list. The length of a list is what the __len()__ function returns when it receives a denotation of that list as argument:"
   ]
  },
  {
   "cell_type": "code",
   "execution_count": null,
   "metadata": {},
   "outputs": [],
   "source": [
    "len(tape)"
   ]
  },
  {
   "cell_type": "markdown",
   "metadata": {},
   "source": [
    "Using an index which is at least equal to the length of the list generates an __IndexError__ _exception_:"
   ]
  },
  {
   "cell_type": "code",
   "execution_count": null,
   "metadata": {},
   "outputs": [],
   "source": [
    "tape[len(tape)]"
   ]
  },
  {
   "cell_type": "markdown",
   "metadata": {},
   "source": [
    "Using an index which is smaller than minus the length of the list also generates an __IndexError__ exception. The code in the cell below makes use of two operators: unary __-__, which negates its unique operand, and binary __-__, which subtracts its second operand from its first operand, the former operator taking precedence over the latter:"
   ]
  },
  {
   "cell_type": "code",
   "execution_count": null,
   "metadata": {},
   "outputs": [],
   "source": [
    "tape[-len(tape) - 1]"
   ]
  },
  {
   "cell_type": "markdown",
   "metadata": {},
   "source": [
    "Let us define a function to nicely display __tape__ on demand. To start with, we just design the function. We let the function _body_ consist of nothing but comments that describe what the function is meant to do. Executing the contents of the following cell shows that Python does not accept this function definition as such:"
   ]
  },
  {
   "cell_type": "code",
   "execution_count": null,
   "metadata": {},
   "outputs": [],
   "source": [
    "def display_tape():\n",
    "    # Draw a horizontal line to represent\n",
    "    #   the top boundary of the tape fragment\n",
    "    # Draw the tape fragment's cell contents,\n",
    "    #   also drawing vertical line segments as cell boundaries\n",
    "    # Draw a horizontal line to represent\n",
    "    #   the bottom boundary of the tape fragment"
   ]
  },
  {
   "cell_type": "markdown",
   "metadata": {},
   "source": [
    "The body of a function should consist of at least one statement. We can make __pass__ the only statement of __display_tape()__. The function definition is now acceptable:"
   ]
  },
  {
   "cell_type": "code",
   "execution_count": null,
   "metadata": {},
   "outputs": [],
   "source": [
    "def display_tape():\n",
    "    # Draw a horizontal line to represent\n",
    "    #   the top boundary of the tape fragment\n",
    "    # Draw the tape fragment's cell contents,\n",
    "    #   also drawing vertical line segments as cell boundaries\n",
    "    # Draw a horizontal line to represent\n",
    "    #   the bottom boundary of the tape fragment\n",
    "    pass"
   ]
  },
  {
   "cell_type": "markdown",
   "metadata": {},
   "source": [
    "When called, a function _returns_ a value. That value can be assigned to a variable. A __return__ statement allows one to explicitly let a function return a value:"
   ]
  },
  {
   "cell_type": "code",
   "execution_count": null,
   "metadata": {},
   "outputs": [],
   "source": [
    "def f():\n",
    "    return 2\n",
    "\n",
    "f() # Yields 2, as shown when running the cell\n",
    "x = f()\n",
    "print(x)"
   ]
  },
  {
   "cell_type": "markdown",
   "metadata": {},
   "source": [
    "A function that does not eventually execute a __return__ statement still returns some value, namely, the special value __None__:"
   ]
  },
  {
   "cell_type": "code",
   "execution_count": null,
   "metadata": {},
   "outputs": [],
   "source": [
    "display_tape() # Yields None, which is not shown when running the cell\n",
    "x = display_tape()\n",
    "print(x)"
   ]
  },
  {
   "cell_type": "markdown",
   "metadata": {},
   "source": [
    "A function can also explicitly return __None__:"
   ]
  },
  {
   "cell_type": "code",
   "execution_count": null,
   "metadata": {},
   "outputs": [],
   "source": [
    "def f():\n",
    "    return None\n",
    "\n",
    "f() # Yields None, which is not shown when running the cell\n",
    "x = f()\n",
    "print(x)"
   ]
  },
  {
   "cell_type": "markdown",
   "metadata": {},
   "source": [
    "Getting back to the comments in __display_tape()__'s body, we see that we have to twice draw a line. This can be achieved by printing out a _string_ of hyphens. More generally, a string is a sequence of characters. Literal strings can be delimited with single quotes; a backslash allows one to escape a single quote and make it part of the string:"
   ]
  },
  {
   "cell_type": "code",
   "execution_count": null,
   "metadata": {},
   "outputs": [],
   "source": [
    "string = 'A string with \\' (single quote), not \", as delimiter'\n",
    "string\n",
    "print(string)"
   ]
  },
  {
   "cell_type": "markdown",
   "metadata": {},
   "source": [
    "Alternatively, strings can be delimited with double quotes; then double quotes, not single quotes, need to be escaped to be part of the string:"
   ]
  },
  {
   "cell_type": "code",
   "execution_count": null,
   "metadata": {},
   "outputs": [],
   "source": [
    "string = \"A string with \\\" (double quote), not ', as delimiter\"\n",
    "string\n",
    "print(string)"
   ]
  },
  {
   "cell_type": "markdown",
   "metadata": {},
   "source": [
    "Strings can span many lines: just use either three single quotes or three double quotes as delimiters. One could escape new line characters and define those strings with single or double quotes as delimiters, but they would not read as well:"
   ]
  },
  {
   "cell_type": "code",
   "execution_count": null,
   "metadata": {},
   "outputs": [],
   "source": [
    "string = '''A string containing both ' and \"\n",
    "with \\''' (triple quote) as delimiter;\n",
    "it actually contains four single quotes,\n",
    "one of which is escaped'''\n",
    "string\n",
    "print(string)"
   ]
  },
  {
   "cell_type": "code",
   "execution_count": null,
   "metadata": {},
   "outputs": [],
   "source": [
    "string = \"\"\"\n",
    "A string containing both ' and \"\n",
    "delimited with triple quotes    \n",
    "(observe: 4 spaces at the end of the previous line)\n",
    "and containing five new line characters\n",
    "\"\"\"\n",
    "string\n",
    "print(string)"
   ]
  },
  {
   "cell_type": "markdown",
   "metadata": {},
   "source": [
    "The __*__ operator can also be applied with a string and a natural number as operands:"
   ]
  },
  {
   "cell_type": "code",
   "execution_count": null,
   "metadata": {},
   "outputs": [],
   "source": [
    "# The empty string\n",
    "'acb' * 0\n",
    "1 * 'abc'\n",
    "'abc' * 2\n",
    "3 * 'abc'"
   ]
  },
  {
   "cell_type": "markdown",
   "metadata": {},
   "source": [
    "Since __display_tape()__ has to twice draw the same line, it is preferable not to duplicate code and define an auxiliary function, say __draw_horizontal_line()__, to draw that line, and let __display_tape()__ call __draw_horizontal_line()__ twice. As __display_tape()__, the function __draw_horizontal_line()__ takes no argument. In the function body, __tape__ plays the role of a _global_ variable: __tape__ has been introduced outside the function, but the function body can still retrieve __tape__'s value. We define the function and then call it:"
   ]
  },
  {
   "cell_type": "code",
   "execution_count": null,
   "metadata": {},
   "outputs": [],
   "source": [
    "def draw_horizontal_line():\n",
    "    # multiplication takes precedence over addition\n",
    "    print('-' * (2 * len(tape) + 1))\n",
    "    \n",
    "draw_horizontal_line()"
   ]
  },
  {
   "cell_type": "markdown",
   "metadata": {},
   "source": [
    "We can now partially implement __display_tape()__, removing the __pass__ statement, and replacing the first and last comments in its body with calls to __draw_horizontal_line()__:"
   ]
  },
  {
   "cell_type": "code",
   "execution_count": null,
   "metadata": {},
   "outputs": [],
   "source": [
    "def display_tape():\n",
    "    draw_horizontal_line()\n",
    "    # Output cell contents, delimited with |'s\n",
    "    draw_horizontal_line()\n",
    "    \n",
    "display_tape()"
   ]
  },
  {
   "cell_type": "markdown",
   "metadata": {},
   "source": [
    "To complete the implementation of __display_tape()__, we need to write code that outputs a string consisting of the characters __'|'__, __'0'__ and __'1'__. From the list __tape__ consisting of the numbers __0__ and __1__, we could obtain a corresponding list consisting of the characters __'0'__'s and __'1'__'s, letting __str()__ convert numbers to strings, and making use of a _list comprehension_. The following statement reads as: the list of all elements of the form __str(bit)__ where __bit__ ranges over __tape__, from beginning to end:"
   ]
  },
  {
   "cell_type": "code",
   "execution_count": null,
   "metadata": {},
   "outputs": [],
   "source": [
    "[str(bit) for bit in tape]"
   ]
  },
  {
   "cell_type": "markdown",
   "metadata": {},
   "source": [
    "One could then use the __join()__ _method_ of the __str__ _class_ to create a string from the (one character) strings in the former list. If __join()__ is applied to the empty string, then all those characters are \"glued\" together: "
   ]
  },
  {
   "cell_type": "code",
   "execution_count": null,
   "metadata": {},
   "outputs": [],
   "source": [
    "''.join([str(bit) for bit in tape])"
   ]
  },
  {
   "cell_type": "markdown",
   "metadata": {},
   "source": [
    "We could \"glue\" the characters with any other string:"
   ]
  },
  {
   "cell_type": "code",
   "execution_count": null,
   "metadata": {},
   "outputs": [],
   "source": [
    "'+A+'.join([str(bit) for bit in tape])"
   ]
  },
  {
   "cell_type": "markdown",
   "metadata": {},
   "source": [
    "This is what we want:"
   ]
  },
  {
   "cell_type": "code",
   "execution_count": null,
   "metadata": {},
   "outputs": [],
   "source": [
    "'|'.join([str(bit) for bit in tape])"
   ]
  },
  {
   "cell_type": "markdown",
   "metadata": {},
   "source": [
    "The previous statement is correct, but not as good as it could and should be. Indeed, that statement processes all elements that make up __tape__ to create the list __[str(bit) for bit in tape]__, and then processes all elements that make up that second list to create the desired string. A better option is to use a _generator expression_:"
   ]
  },
  {
   "cell_type": "code",
   "execution_count": null,
   "metadata": {},
   "outputs": [],
   "source": [
    "(str(bit) for bit in tape)"
   ]
  },
  {
   "cell_type": "markdown",
   "metadata": {},
   "source": [
    "A generator expression is a potential sequence of elements. One way to actualise the sequence and retrieve each of its members, one by one, is to call the __next()__ function; when all elements have been retrieved, a new call to __next()__ generates a __StopIteration__ exception:"
   ]
  },
  {
   "cell_type": "code",
   "execution_count": null,
   "metadata": {},
   "outputs": [],
   "source": [
    "E = (str(bit) for bit in tape)\n",
    "next(E)\n",
    "next(E)\n",
    "next(E)\n",
    "next(E)\n",
    "next(E)\n",
    "next(E)\n",
    "next(E)\n",
    "next(E)"
   ]
  },
  {
   "cell_type": "markdown",
   "metadata": {},
   "source": [
    "A generator expression can be passed as an argument to __list()__ which behind the scene, calls __next()__ until __StopIteration__ is generated, letting it gracefully complete the construction of the list:"
   ]
  },
  {
   "cell_type": "code",
   "execution_count": null,
   "metadata": {},
   "outputs": [],
   "source": [
    "# The full syntax would be list((str(bit) for bit in tape)),\n",
    "# but Python lets us  simplify it and omit one pair of parentheses\n",
    "list(str(bit) for bit in tape)"
   ]
  },
  {
   "cell_type": "markdown",
   "metadata": {},
   "source": [
    "__join()__ also accepts a generator expression rather than a list an argument. In the code below, __join()__ processes the __'0'__'s and __'1'__'s it receives from the generator expression __(str(bit) for bit in tape)__, as that generator expression processes the __0__'s and __1__'s that make up the list __tape__. The desired string is created \"on the fly\"; no intermediate list is created:"
   ]
  },
  {
   "cell_type": "code",
   "execution_count": null,
   "metadata": {},
   "outputs": [],
   "source": [
    "'|'.join(str(bit) for bit in tape)"
   ]
  },
  {
   "cell_type": "markdown",
   "metadata": {},
   "source": [
    "We also want to display a vertical bar at both ends. This can be done by concatenating three strings into one. For that purpose, one can use the __+__ binary operator. When both operands are numbers, __+__ is addition, but when both operands are strings, __+__ is concatenation:"
   ]
  },
  {
   "cell_type": "code",
   "execution_count": null,
   "metadata": {},
   "outputs": [],
   "source": [
    "'ABC' + 'DEF'"
   ]
  },
  {
   "cell_type": "markdown",
   "metadata": {},
   "source": [
    "__+__ is left associative. Therefore, in the following statement, the first occurrence of __+__ creates a new string $S$ from its operands, and the second occurrence of __+__ creates a new string from $S$ and its second operand:"
   ]
  },
  {
   "cell_type": "code",
   "execution_count": null,
   "metadata": {},
   "outputs": [],
   "source": [
    "'|' + '|'.join(str(bit) for bit in tape) + '|'"
   ]
  },
  {
   "cell_type": "markdown",
   "metadata": {},
   "source": [
    "Since our aim is only to display a sequence of characters, we do not need to create a new string from three strings: we can instead let __print()__ take those three strings as arguments and print them out changing the separator from the default, a space, to an empty string, using the optional _keyword only_ parameter __sep__ to __print()__. Compare:"
   ]
  },
  {
   "cell_type": "code",
   "execution_count": null,
   "metadata": {},
   "outputs": [],
   "source": [
    "print('|', '|'.join(str(bit) for bit in tape), '|')\n",
    "print('|', '|'.join(str(bit) for bit in tape), '|', sep = '')"
   ]
  },
  {
   "cell_type": "markdown",
   "metadata": {},
   "source": [
    "We now have the full implementation of __display_tape()__:"
   ]
  },
  {
   "cell_type": "code",
   "execution_count": null,
   "metadata": {},
   "outputs": [],
   "source": [
    "def display_tape():\n",
    "    draw_horizontal_line()\n",
    "    print('|', '|'.join(str(e) for e in tape), '|', sep = '')\n",
    "    draw_horizontal_line()\n",
    "    \n",
    "display_tape()"
   ]
  },
  {
   "cell_type": "markdown",
   "metadata": {},
   "source": [
    "Besides a tape, a TM has a head, that can be positioned below one of the cells that make up the tape, thereby revealing its contents to the TM. A TM does not have a global view of the tape, it only has a very local view, that of a single cell, but that cell changes over time as the TM moves its head left or right. A TM also has a program to perform some computation. We assume that before computation starts, the tape has been \"initialised\" in such a way that only a finite number of cells contain the bit 1, some cell contains 1, and the head is positioned below the cell that contains the leftmost 1. The section of the tape that spans between the cells that store the leftmost and rightmost 1's is meant to encode some data (numbers, text, images, videos...)."
   ]
  },
  {
   "cell_type": "markdown",
   "metadata": {},
   "source": [
    "At any stage of the computation, including before it starts and when it ends, if it ever comes to an end, the TM is in one of a finite number of states. The program of a TM consists of a finite set of instructions, each instruction being a quintuple of the form \n",
    "(_state_, _bit_, *new_state*, *new_bit*, _direction_), with the following intended meaning: if the current state of the TM is _state_, and if the head of the TM is currently positioned under a cell that stores _bit_, then the contents of that cell becomes *new_bit* (which can be the same as _bit_), the state of the TM becomes *new_state* (which can be the same as _state_), and the head of the TM moves one cell to the right or one cell to the left depending on whether _direction_ is *R* or *L*. A TM is deterministic. This means that at any stage, at most one instruction can be executed: its program does not have two distinct instructions that both start with the same first two elements, with the same state and bit. Computation runs for as long as some instruction can be executed. Either there is always such an instruction, in which case computation never terminates, or at some stage no instruction can be executed, in which case computation ends."
   ]
  },
  {
   "cell_type": "markdown",
   "metadata": {},
   "source": [
    "For illustration purposes, assume that __tape__ is set to __[0, 0, 1, 1, 1, 1, 0]__ and represents a segment of the tape that contains all 1's on the tape. Suppose that the head of the TM is positioned below the cell that stores the leftmost 1, corresponding to the member of __tape__ of index 2, as it is meant to be before computation starts. Suppose that there are two possible states, _green_ and _blue_. Also suppose that the initial state, that is, the state of the TM before computation starts, is _green_. If the program of the TM has no instruction whose first two members are _green_ and 1, then computation stops. One the other hand, if the program has one such instruction, then that instruction is one of the following 8 instructions, and the TM executes it:\n",
    "\n",
    "* (_green_, 1, _green_, 1, R): the state of the TM remains _green_, __tape__ is left unchanged, and the head of the TM moves right (so positions itself below the cell that stores __1__ at index 3 in __tape__).\n",
    "* (_green_, 1, _green_, 1, L): the state of the TM remains _green_, __tape__ is left unchanged, and the head of the TM moves left (so positions itself below the cell that stores __0__ at index 1 in __tape__).\n",
    "* (_green_, 1, _green_, 0, R): the state of the TM remains _green_, the __1__ in __tape__ at index 2 is changed to __0__, and the head of the TM moves right (so positions itself below the cell that stores __1__ at index 3 in __tape__).\n",
    "* (_green_, 1, _green_, 0, L): the state of the TM remains _green_, the __1__ in __tape__ at index 2 is changed to __0__, and the head of the TM moves left (so positions itself below the cell that stores __0__ at index 1 in __tape__).\n",
    "* (_green_, 1, _blue_, 1, R): the state of the TM changes to _blue_, __tape__ is left unchanged, and the head of the TM moves right (so positions itself below the cell that stores __1__ at index 3 in __tape__).\n",
    "* (_green_, 1, _blue_, 1, L): the state of the TM changes to _blue_, __tape__ is left unchanged, and the head of the TM moves left (so positions itself below the cell that stores __0__ at index 1 in __tape__).\n",
    "* (_green_, 1, _blue_, 0, R): the state of the TM changes to _blue_, the __1__ in __tape__ at index 2 is changed to __0__, and the head of the TM moves right (so positions itself below the cell that stores __1__ at index 3 in __tape__).\n",
    "* (_green_, 1, _blue_, 0, L): the state of the TM changes to _blue_, the __1__ in __tape__ at index 2 is changed to __0__, and the head of the TM moves left (so positions itself below the cell that stores __0__ at index 1 in __tape__)."
   ]
  },
  {
   "cell_type": "markdown",
   "metadata": {},
   "source": [
    "Intuitively, a state captures some memory of the past. If infinitely many states were available, it would be possible to remember everything that happened since computation started. As only finitely many states are available, states can usually keep track of only part of what happened; for instance, one usually cannot remember how many 1's have been overwritten with 0's since computation started, but finitely many states is enough to remember whether that number is even or odd."
   ]
  },
  {
   "cell_type": "markdown",
   "metadata": {},
   "source": [
    "We provide sample TM programs to compute various functions from $\\mathbf N^*$ to $\\mathbf N$, or from $\\mathbf N^*\\times\\mathbf N^*$ to $\\mathbf N$ ($\\mathbf N$ denotes the set of natural numbers, and $\\mathbf N^*$ the set of strictly positive natural numbers):\n",
    "\n",
    "* the successor function, that maps $n$ to $n+1$\n",
    "* the parity function, that maps $n$ to 0 if $n$ is even, and to 1 otherwise\n",
    "* division by 2, that maps $n$ to $\\lfloor\\frac{n}{2}\\rfloor$\n",
    "* addition\n",
    "* multiplication\n",
    "\n",
    "For the first three programs, data is for a single nonzero natural number, encoded in unary: 1 is encoded as 1, 2 as 11, 3 as 111, 4 as 1111... For the last two programs, data is for two nonzero natural numbers, both encoded in unary, and separated by a single 0.\n",
    "\n",
    "For all programs, when computation stops, data is \"erased\" and the tape just stores the natural number $r$ that is the result of the computation, represented in unary.\n",
    "\n",
    "* If $r>0$, the head of the TM is positioned under the cell that stores the leftmost 1.\n",
    "* If $r=0$, then the tape contains nothing but 0's and the head is positioned anywhere on the tape."
   ]
  },
  {
   "cell_type": "markdown",
   "metadata": {},
   "source": [
    "These TM programs are saved in the files:\n",
    "\n",
    "* successor.txt\n",
    "* parity.txt\n",
    "* division_by_2.txt\n",
    "* addition.txt\n",
    "* multiplication.txt\n",
    "\n",
    "The program turing_machine_simulator.py creates a widget to experiment with those programs and others. It has a Help menu. Rather that representing the head of the TM in one way or another, it identifies the cell that the head is currently positioned under by displaying its contents in boldface red."
   ]
  },
  {
   "cell_type": "markdown",
   "metadata": {},
   "source": [
    "Let us now examine how to process the contents of a file containing the program of a TM, say division_by_2.txt. The __open()__ function returns a handle to a file, that we can assign to a variable on which we can then operate to read and extract the contents of the file, before eventually closing it. __open()__ expects to be given as argument a string that represents the location of the file. Setting the string to just the name of the file makes the location relative to the _working directory_, which is fine here since division_by_2.txt is indeed stored in the working directory. By default, __open()__ works in reading mode; this is appropriate since we do not want to overwrite or modify division_by_2.txt:"
   ]
  },
  {
   "cell_type": "code",
   "execution_count": null,
   "metadata": {},
   "outputs": [],
   "source": [
    "TM_program_file = open('division_by_2.txt')\n",
    "TM_program_file\n",
    "# Operate on TM_program_file to read and process\n",
    "# the contents of division_by_2.txt\n",
    "TM_program_file.close()"
   ]
  },
  {
   "cell_type": "markdown",
   "metadata": {},
   "source": [
    "The previous syntax is simple, but it is preferable to opt for an alternative and use a context manager, that gracefully closes the file after it has been processed, or earlier in case problems happen during processing:"
   ]
  },
  {
   "cell_type": "code",
   "execution_count": null,
   "metadata": {},
   "outputs": [],
   "source": [
    "with open('division_by_2.txt') as TM_program_file:\n",
    "    TM_program_file\n",
    "    # Operate on TM_program_file to read and process\n",
    "    # the contents of division_by_2.txt"
   ]
  },
  {
   "cell_type": "markdown",
   "metadata": {},
   "source": [
    "The contents of the file can be extracted all at once, as a list of strings, one string per line in the file:"
   ]
  },
  {
   "cell_type": "code",
   "execution_count": null,
   "metadata": {},
   "outputs": [],
   "source": [
    "with open('division_by_2.txt') as TM_program_file:\n",
    "    TM_program_file.readlines()"
   ]
  },
  {
   "cell_type": "markdown",
   "metadata": {},
   "source": [
    "When dealing with very large files, storing the whole file contents as a list of strings can be too ineffective. Instead, lines can be read one by one on demand with the __readline()__ method:"
   ]
  },
  {
   "cell_type": "code",
   "execution_count": null,
   "metadata": {},
   "outputs": [],
   "source": [
    "with open('division_by_2.txt') as TM_program_file:\n",
    "    TM_program_file.readline()\n",
    "    TM_program_file.readline()\n",
    "    TM_program_file.readline()\n",
    "    TM_program_file.readline()"
   ]
  },
  {
   "cell_type": "markdown",
   "metadata": {},
   "source": [
    "In fact, __open()__ returns an _iterator_, that is, an object of the same type as a generator expression, which __next()__ can be applied to; essentially, __readline()__ is just alternative syntax for __next()__:"
   ]
  },
  {
   "cell_type": "code",
   "execution_count": null,
   "metadata": {},
   "outputs": [],
   "source": [
    "with open('division_by_2.txt') as TM_program_file:\n",
    "    next(TM_program_file)\n",
    "    next(TM_program_file)\n",
    "    next(TM_program_file)\n",
    "    next(TM_program_file)"
   ]
  },
  {
   "cell_type": "markdown",
   "metadata": {},
   "source": [
    "Iterators are usually best processed with a _for statement_, a kind of loop. Behind the scene, __for__ calls __next()__ until the latter generates a __StopIteration__ exception, which lets it gracefully exit the loop. Note that since every line of the file being processed yields a string that ends in a new line character, and __print()__ \"goes to the next line\" by default, that is, outputs a new line character, the output of the following code fragment shows one blank line between two consecutive lines:"
   ]
  },
  {
   "cell_type": "code",
   "execution_count": null,
   "metadata": {},
   "outputs": [],
   "source": [
    "with open('division_by_2.txt') as TM_program_file:\n",
    "    for line in TM_program_file:\n",
    "        print(line)"
   ]
  },
  {
   "cell_type": "markdown",
   "metadata": {},
   "source": [
    "These blank lines can be eliminated from the output by changing the value of the keyword only parameter __end__ of __print()__ from the default new line character to an empty string:"
   ]
  },
  {
   "cell_type": "code",
   "execution_count": null,
   "metadata": {},
   "outputs": [],
   "source": [
    "with open('division_by_2.txt') as TM_program_file:\n",
    "    for line in TM_program_file:\n",
    "        print(line, end = '')"
   ]
  },
  {
   "cell_type": "markdown",
   "metadata": {},
   "source": [
    "We are only interested in lines that represent instructions, neither in lines that represent a comment nor by blank lines. For the former, the __startswith()__ method of the __str__ class is useful:"
   ]
  },
  {
   "cell_type": "code",
   "execution_count": null,
   "metadata": {},
   "outputs": [],
   "source": [
    "'A string'.startswith('')\n",
    "'A string'.startswith('A')\n",
    "'A string'.startswith('A ')\n",
    "'A string'.startswith('A s')\n",
    "'A string'.startswith('a')"
   ]
  },
  {
   "cell_type": "markdown",
   "metadata": {},
   "source": [
    "For the latter, the __isspace()__ method of the __str__ class is useful:"
   ]
  },
  {
   "cell_type": "code",
   "execution_count": null,
   "metadata": {},
   "outputs": [],
   "source": [
    "''.isspace()\n",
    "' a'.isspace()\n",
    "' '.isspace()\n",
    "'   '.isspace()\n",
    "# \\t is for tab\n",
    "'   \\t   \\n'.isspace()\n",
    "'''\n",
    "   \n",
    "\n",
    "\n",
    "'''.isspace()"
   ]
  },
  {
   "cell_type": "markdown",
   "metadata": {},
   "source": [
    "Using __startswith()__ and __isspace()__ as part of the condition of an _if statement_ whose body is executed if and only if its condition evaluates to __True__, we can output only lines that represent instructions:"
   ]
  },
  {
   "cell_type": "code",
   "execution_count": null,
   "metadata": {},
   "outputs": [],
   "source": [
    "with open('division_by_2.txt') as TM_program_file:\n",
    "    for line in TM_program_file:\n",
    "        if not line.startswith('#') and not line.isspace():\n",
    "            print(line, end = '')"
   ]
  },
  {
   "cell_type": "markdown",
   "metadata": {},
   "source": [
    "Alternatively, we can test the negation of the condition of the __if__ statement in the previous code fragment and use a _continue statement_ not to process any further any line that is not of interest:"
   ]
  },
  {
   "cell_type": "code",
   "execution_count": null,
   "metadata": {},
   "outputs": [],
   "source": [
    "with open('division_by_2.txt') as TM_program_file:\n",
    "    for line in TM_program_file:\n",
    "        if line.startswith('#') or line.isspace():\n",
    "            continue\n",
    "        print(line, end = '')"
   ]
  },
  {
   "cell_type": "markdown",
   "metadata": {},
   "source": [
    "After an instruction has been retrieved, it is necessary to isolate its 5 components. The __split()__ method of the __str__ class is useful. We can pass to __split()__ a nonempty string as argument:"
   ]
  },
  {
   "cell_type": "code",
   "execution_count": null,
   "metadata": {},
   "outputs": [],
   "source": [
    "'aXaaXaaaXaaaXaaXaX'.split('a')\n",
    "'aXaaXaaaXaaaXaaXaX'.split('aa')\n",
    "'aXaaXaaaXaaaXaaXaX'.split('aaa')\n",
    "'aXaaXaaaXaaaXaaXaX'.split('aaaa')"
   ]
  },
  {
   "cell_type": "markdown",
   "metadata": {},
   "source": [
    "If no argument is passed to __split()__, then any longest sequence of space characters will play the role of separator, and any leading or trailing sequence of space characters will be ignored:"
   ]
  },
  {
   "cell_type": "code",
   "execution_count": null,
   "metadata": {},
   "outputs": [],
   "source": [
    "'  \\n\\t  X X\\tX\\nX   \\t  \\n   X'.split()"
   ]
  },
  {
   "cell_type": "markdown",
   "metadata": {},
   "source": [
    "So we can now get from each instruction a list of 5 strings:"
   ]
  },
  {
   "cell_type": "code",
   "execution_count": null,
   "metadata": {},
   "outputs": [],
   "source": [
    "with open('division_by_2.txt') as TM_program_file:\n",
    "    for line in TM_program_file:\n",
    "        if line.startswith('#') or line.isspace():\n",
    "            continue\n",
    "        print(line.split())"
   ]
  },
  {
   "cell_type": "markdown",
   "metadata": {},
   "source": [
    "A list of 5 strings is not the best representation of an instruction. Recall that since a TM is deterministic, no two distinct instructions share the same first two elements. A good way to put it is that the program of a TM is a function that maps a pair of the form (_state_, _bit_) to a triple of the form (*new_state*, *new_bit*, _direction_): (_state_, _bit_) represents a possible configuration (what is possibly the current state and the bit stored in the cell that the head of the TM is currently positioned under), while (*new_state*, *new_bit*, _direction_) represents what to do in case the computation is at a stage when that possible configuration happens to be the current one. To represent functions, mappings, Python offers _dictionaries_:"
   ]
  },
  {
   "cell_type": "code",
   "execution_count": null,
   "metadata": {},
   "outputs": [],
   "source": [
    "# An empty dictionary\n",
    "{}\n",
    "# A dictionary with 4 keys, mapping names of digits to digits.\n",
    "{'one': 1, 'two': 2, 'three': 3, 'four': 4}\n",
    "# A dictionary with 4 keys, mapping English words to German translations\n",
    "{'tap': 'Hahn', 'table': 'Tisch', 'rooster': 'Hahn', 'train': 'Zug'}\n",
    "# A dictionary with 3 keys, mapping German words to English translations\n",
    "{'Hahn': ['tap', 'rooster'], 'Tisch': ['table'], 'Zug': ['train']}"
   ]
  },
  {
   "cell_type": "markdown",
   "metadata": {},
   "source": [
    "Observe how we mapped an English word to a German word, but a German word to a list of English words: this is because the English words under consideration all have a single German translation, whereas some of the German words under consideration have more than one English translation."
   ]
  },
  {
   "cell_type": "markdown",
   "metadata": {},
   "source": [
    "Getting back to our TM instructions, we could think of creating a dictionary __TM_program__ that would have for each instruction of the form (_state_, _bit_, *new_state*, *new_bit*, _direction_), the list of 2 elements [_state_, _bit_] as a key and the list of 3 elements [*new_state*, *new_bit*, _direction_] as value for that key. That does not work:"
   ]
  },
  {
   "cell_type": "code",
   "execution_count": null,
   "metadata": {},
   "outputs": [],
   "source": [
    "{['del1', '1']: ['del2', '0', 'R']}"
   ]
  },
  {
   "cell_type": "markdown",
   "metadata": {},
   "source": [
    "The keys of a dictionary should be _immutable_ entities, that is, entities that cannot change. It is possible to change a dictionary by adding or removing a key together with its associated value, but an existing key cannot be modified. A list is mutable, as it can be changed in many ways. It is for instance possible to change the value of one of the members of a list:"
   ]
  },
  {
   "cell_type": "code",
   "execution_count": null,
   "metadata": {},
   "outputs": [],
   "source": [
    "L = [10, 11, 12]\n",
    "L[1] = 21\n",
    "L"
   ]
  },
  {
   "cell_type": "markdown",
   "metadata": {},
   "source": [
    "It is possible to add elements to a list:"
   ]
  },
  {
   "cell_type": "code",
   "execution_count": null,
   "metadata": {},
   "outputs": [],
   "source": [
    "L = [10, 11, 12]\n",
    "L.append(13)\n",
    "L"
   ]
  },
  {
   "cell_type": "markdown",
   "metadata": {},
   "source": [
    "It is possible to remove elements from a list:"
   ]
  },
  {
   "cell_type": "code",
   "execution_count": null,
   "metadata": {},
   "outputs": [],
   "source": [
    "L = [10, 11, 12]\n",
    "L.remove(11)\n",
    "L"
   ]
  },
  {
   "cell_type": "markdown",
   "metadata": {},
   "source": [
    "_Tuples_ offer alternatives to lists to define sequences of values. Rather than being surrounded by square brackets, they are surrounded by parentheses, which in many contexts, are optional as commas are often all what is needed to define a tuple:"
   ]
  },
  {
   "cell_type": "code",
   "execution_count": null,
   "metadata": {},
   "outputs": [],
   "source": [
    "# The empty tuple\n",
    "()\n",
    "(10,)\n",
    "10,\n",
    "(10, 11)\n",
    "10, 11\n",
    "(10, 11, 12)\n",
    "10, 11, 12\n",
    "# Not a tuple, but 10 surrounded by parentheses\n",
    "(10)"
   ]
  },
  {
   "cell_type": "markdown",
   "metadata": {},
   "source": [
    "It is not possible to change the value of one of the members of a tuple:"
   ]
  },
  {
   "cell_type": "code",
   "execution_count": null,
   "metadata": {},
   "outputs": [],
   "source": [
    "T = 10, 11, 12\n",
    "T[1] = 21"
   ]
  },
  {
   "cell_type": "markdown",
   "metadata": {},
   "source": [
    "It is not possible to add or remove elements to or from a tuple: there is no append nor remove method for tuples. Tuples can be dictionary keys. Dictionary values can be lists or tuples, only the keys should be immutable:"
   ]
  },
  {
   "cell_type": "code",
   "execution_count": null,
   "metadata": {},
   "outputs": [],
   "source": [
    "{('del1', '1'): ['del2', '0', 'R']}\n",
    "{('del1', '1'): ('del2', '0', 'R')}"
   ]
  },
  {
   "cell_type": "markdown",
   "metadata": {},
   "source": [
    "Let us opt for representing the program of a TM as a dictionary where both keys and values are tuples. One can start with an empty dictionary and add a new key and its associated value every time a new instruction is processed:"
   ]
  },
  {
   "cell_type": "code",
   "execution_count": null,
   "metadata": {},
   "outputs": [],
   "source": [
    "TM_program = {}\n",
    "with open('division_by_2.txt') as TM_program_file:\n",
    "    for line in TM_program_file:\n",
    "        if line.startswith('#') or line.isspace():\n",
    "            continue\n",
    "        instruction = line.split()\n",
    "        # Simplified syntax, without parentheses for both keys and values.\n",
    "        # The full syntax would be be\n",
    "        #   TM_program[(instruction[0], instruction[1])] =\\\n",
    "        #                (instruction[2], instruction[3], instruction[4])\n",
    "        # \\ used for line continuation\n",
    "        TM_program[instruction[0], instruction[1]] =\\\n",
    "                           instruction[2], instruction[3], instruction[4]\n",
    "TM_program"
   ]
  },
  {
   "cell_type": "markdown",
   "metadata": {},
   "source": [
    "The previous code fragment is not as readable as it can be. Python lets us assign each element of a list or a tuple to each of the corresponding elements of a list or a tuple of the same length:"
   ]
  },
  {
   "cell_type": "code",
   "execution_count": null,
   "metadata": {},
   "outputs": [],
   "source": [
    "[a1, b1, c1] = [10, 11, 12]\n",
    "# Simplified syntax for what could also be written as\n",
    "# (a2, b2, c2) = (21, 22, 23)\n",
    "# or\n",
    "# a2, b2, c2 = (21, 22, 23)\n",
    "# or\n",
    "# (a2, b2, c2) = 21, 22, 23\n",
    "a2, b2, c2 = 21, 22, 23\n",
    "# Simplified syntax for what could also be written as\n",
    "# [a3, b3, c3] = (31, 32, 33)\n",
    "[a3, b3, c3] = 31, 32, 33\n",
    "# Simplified syntax for what could also be written as\n",
    "# (a4, b4, c4) = [41, 42, 43]\n",
    "a4, b4, c4 = [41, 42, 43]\n",
    "\n",
    "[a1, b1, c1, a2, b2, c2, a3, b3, c3, a4, b4, c4]\n",
    "# Simplified syntax for what could also be written as\n",
    "# (a1, b1, c1, a2, b2, c2, a3, b3, c3, a4, b4, c4)\n",
    "a1, b1, c1, a2, b2, c2, a3, b3, c3, a4, b4, c4"
   ]
  },
  {
   "cell_type": "markdown",
   "metadata": {},
   "source": [
    "Though functionally equivalent to what we wrote above, the following code fragment is more readable:"
   ]
  },
  {
   "cell_type": "code",
   "execution_count": null,
   "metadata": {},
   "outputs": [],
   "source": [
    "TM_program = {}\n",
    "with open('division_by_2.txt') as TM_program_file:\n",
    "    for line in TM_program_file:\n",
    "        if line.startswith('#') or line.isspace():\n",
    "            continue\n",
    "        state, bit, new_state, new_bit, direction = line.split()\n",
    "        # Simplified syntax, without parentheses for both keys and values.\n",
    "        # The full syntax would be be\n",
    "        #   TM_program[(state, bit)] = (new_state, new_bit, direction)\n",
    "        TM_program[state, bit] = new_state, new_bit, direction\n",
    "TM_program"
   ]
  },
  {
   "cell_type": "markdown",
   "metadata": {},
   "source": [
    "States and directions are naturally represented as strings. On the other hand, it would be simpler and more natural to represent bits as the integers __0__ and __1__, not as the strings __'0'__ and __'1'__, all the more so that __tape__ consists of __0__'s and __1__'s, not __'0'__'s and __'1'__'s. One can get the latter from the former with __int()__:"
   ]
  },
  {
   "cell_type": "code",
   "execution_count": null,
   "metadata": {},
   "outputs": [],
   "source": [
    "int('0')\n",
    "int('1')\n",
    "int('17')\n",
    "int('-23')"
   ]
  },
  {
   "cell_type": "markdown",
   "metadata": {},
   "source": [
    "So we can improve our code fragment further as follows:"
   ]
  },
  {
   "cell_type": "code",
   "execution_count": null,
   "metadata": {},
   "outputs": [],
   "source": [
    "TM_program = {}\n",
    "with open('division_by_2.txt') as TM_program_file:\n",
    "    for line in TM_program_file:\n",
    "        if line.startswith('#') or line.isspace():\n",
    "            continue\n",
    "        state, bit, new_state, new_bit, direction = line.split()\n",
    "        TM_program[state, int(bit)] = new_state, int(new_bit), direction\n",
    "TM_program"
   ]
  },
  {
   "cell_type": "markdown",
   "metadata": {},
   "source": [
    "Now that the program of the TM has been captured in a form that seems appropriate for further use, we can write code to simulate computation. Recall that __tape__ represents only a finite section of the tape. As computation progresses, larger and larger sections of the tape are potentially explored, possibly requiring to extend __tape__ accordingly, left or right. The widget does this. Here, in order to simplify our task, we assume that __tape__ is defined in such a way that it is large enough and contains enough __0__'s at both ends for the head of the TM not to go beyond the section determined by __tape__, for the input under consideration, so there are enough __0__'s left and right of the __1__'s in __tape__ that encode the input for all instructions to be executed within __tape__'s boundaries. With this in mind, and knowing how the division by 2 program works, let us set __tape__ as follows, so set for an input of 7:"
   ]
  },
  {
   "cell_type": "code",
   "execution_count": null,
   "metadata": {},
   "outputs": [],
   "source": [
    "tape = [0, 0, 0, 1, 1, 1, 1, 1, 1, 1, 0, 0, 0, 0, 0, 0]"
   ]
  },
  {
   "cell_type": "markdown",
   "metadata": {},
   "source": [
    "When computation ends, there should be only 3 consecutive __1__'s in __tape__ since $\\lfloor\\frac{7}{2}\\rfloor = 3$. At any stage of the computation, we need to know the current state and the head's current position. Before computation starts, the current state is the initial state, set to __'del1'__:"
   ]
  },
  {
   "cell_type": "code",
   "execution_count": null,
   "metadata": {},
   "outputs": [],
   "source": [
    "current_state = 'del1'"
   ]
  },
  {
   "cell_type": "markdown",
   "metadata": {},
   "source": [
    "The head is supposed to be positioned below the cell of the tape that contains the leftmost 1. The __index()__ method of the __str__ class makes it easy to determine that position within __tape__:"
   ]
  },
  {
   "cell_type": "code",
   "execution_count": null,
   "metadata": {},
   "outputs": [],
   "source": [
    "current_position = tape.index(1)\n",
    "current_position"
   ]
  },
  {
   "cell_type": "markdown",
   "metadata": {},
   "source": [
    "We know how to find out the contents of the cell which the head is currently positioned under, that is, the current bit:"
   ]
  },
  {
   "cell_type": "code",
   "execution_count": null,
   "metadata": {},
   "outputs": [],
   "source": [
    "current_bit = tape[current_position]\n",
    "current_bit"
   ]
  },
  {
   "cell_type": "markdown",
   "metadata": {},
   "source": [
    "At this stage, is there a (unique) instruction to execute? Yes if and only if __TM_program__ has __(current_state, current_bit)__ as one of its keys:"
   ]
  },
  {
   "cell_type": "code",
   "execution_count": null,
   "metadata": {},
   "outputs": [],
   "source": [
    "(current_state, current_bit) in TM_program.keys()"
   ]
  },
  {
   "cell_type": "markdown",
   "metadata": {},
   "source": [
    "Instead of asking whether a given entity is one of the keys of a dictionary, one can more simply ask whether the entity is in the dictionary (as a key):"
   ]
  },
  {
   "cell_type": "code",
   "execution_count": null,
   "metadata": {},
   "outputs": [],
   "source": [
    "(current_state, current_bit) in TM_program"
   ]
  },
  {
   "cell_type": "markdown",
   "metadata": {},
   "source": [
    "One can then retrieve the rest of the instruction, its \"to do\" part:"
   ]
  },
  {
   "cell_type": "code",
   "execution_count": null,
   "metadata": {},
   "outputs": [],
   "source": [
    "new_state, new_bit, direction = TM_program[current_state, current_bit]\n",
    "new_state\n",
    "new_bit\n",
    "direction"
   ]
  },
  {
   "cell_type": "markdown",
   "metadata": {},
   "source": [
    "Executing that instruction means changing __tape[current_bit]__ to __new_bit__, changing the current state from __current_state__ to __new_state__, changing __current_position__ from the value it currently has to that value to plus or minus 1 depending on whether __direction__ is __'R'__ or __'L'__, respectively, and changing __current_bit__ to the value stored in __tape__ at the index which is the new value of __current_position__:"
   ]
  },
  {
   "cell_type": "code",
   "execution_count": null,
   "metadata": {},
   "outputs": [],
   "source": [
    "tape[current_position] = new_bit\n",
    "current_state = new_state\n",
    "current_position = current_position + 1 if direction == 'R'\\\n",
    "                                        else current_position - 1\n",
    "current_bit = tape[current_position]\n",
    "\n",
    "tape\n",
    "current_state\n",
    "current_position\n",
    "current_bit"
   ]
  },
  {
   "cell_type": "markdown",
   "metadata": {},
   "source": [
    "This should be done again and again for as long as there is some instruction to execute, as determined by whether or not __(current_state, current_bit)__ is one of the keys of __TM_program__. To better visualise computation, we can, at every stage of the computation, output a graphical representation of __tape__ and below, output the value of __current_state__ with its leftmost character right below the bit in the cell that the head is positioned under. Let us define a function for that purpose:"
   ]
  },
  {
   "cell_type": "code",
   "execution_count": null,
   "metadata": {},
   "outputs": [],
   "source": [
    "def display_current_configuration():\n",
    "    display_tape()\n",
    "    print('  ' * current_position, current_state)"
   ]
  },
  {
   "cell_type": "markdown",
   "metadata": {},
   "source": [
    "Let us start from scratch and check that __display_current_configuration()__ works as intended:"
   ]
  },
  {
   "cell_type": "code",
   "execution_count": null,
   "metadata": {},
   "outputs": [],
   "source": [
    "tape = [0, 0, 0, 1, 1, 1, 1, 1, 1, 1, 0, 0, 0, 0, 0, 0]\n",
    "current_state = 'del1'\n",
    "current_position = tape.index(1)\n",
    "current_bit = tape[current_position]\n",
    "display_current_configuration()"
   ]
  },
  {
   "cell_type": "markdown",
   "metadata": {},
   "source": [
    "Let us now simulate the first 3 stages of the computation:"
   ]
  },
  {
   "cell_type": "code",
   "execution_count": null,
   "metadata": {},
   "outputs": [],
   "source": [
    "new_state, new_bit, direction = TM_program[current_state, current_bit]\n",
    "tape[current_position] = new_bit\n",
    "current_state = new_state\n",
    "current_position = current_position + 1 if direction == 'R'\\\n",
    "                                        else current_position - 1\n",
    "current_bit = tape[current_position]\n",
    "display_current_configuration()"
   ]
  },
  {
   "cell_type": "code",
   "execution_count": null,
   "metadata": {},
   "outputs": [],
   "source": [
    "new_state, new_bit, direction = TM_program[current_state, current_bit]\n",
    "tape[current_position] = new_bit\n",
    "current_state = new_state\n",
    "current_position = current_position + 1 if direction == 'R'\\\n",
    "                                        else current_position - 1\n",
    "current_bit = tape[current_position]\n",
    "display_current_configuration()"
   ]
  },
  {
   "cell_type": "code",
   "execution_count": null,
   "metadata": {},
   "outputs": [],
   "source": [
    "new_state, new_bit, direction = TM_program[current_state, current_bit]\n",
    "tape[current_position] = new_bit\n",
    "current_state = new_state\n",
    "current_position = current_position + 1 if direction == 'R'\\\n",
    "                                        else current_position - 1\n",
    "current_bit = tape[current_position]\n",
    "display_current_configuration()"
   ]
  },
  {
   "cell_type": "markdown",
   "metadata": {},
   "source": [
    "A _while statement_, another kind of loop, lets us execute those 6 statements again and again, for as long as __(current_state, current_bit)__ is one of the keys of __TM_program__:"
   ]
  },
  {
   "cell_type": "code",
   "execution_count": null,
   "metadata": {},
   "outputs": [],
   "source": [
    "tape = [0, 0, 0, 1, 1, 1, 1, 1, 1, 1, 0, 0, 0, 0, 0, 0]\n",
    "current_state = 'del1'\n",
    "current_position = tape.index(1)\n",
    "current_bit = tape[current_position]\n",
    "display_current_configuration()\n",
    "while (current_state, current_bit) in TM_program:\n",
    "    new_state, new_bit, direction = TM_program[current_state, current_bit]\n",
    "    tape[current_position] = new_bit\n",
    "    current_state = new_state\n",
    "    current_position = current_position + 1 if direction == 'R'\\\n",
    "                                            else current_position - 1\n",
    "    current_bit = tape[current_position]\n",
    "    display_current_configuration()"
   ]
  },
  {
   "cell_type": "markdown",
   "metadata": {},
   "source": [
    "Observe the following:"
   ]
  },
  {
   "cell_type": "code",
   "execution_count": null,
   "metadata": {},
   "outputs": [],
   "source": [
    "direction = 'R'\n",
    "direction == 'R'\n",
    "# direction == 'R' evaluates to True, which is then converted to 1\n",
    "# for the arithmetic expression to make sense\n",
    "2 * (direction == 'R') - 1"
   ]
  },
  {
   "cell_type": "code",
   "execution_count": null,
   "metadata": {},
   "outputs": [],
   "source": [
    "direction = 'L'\n",
    "direction == 'R'\n",
    "# direction == 'R' evaluates to False, which is then converted to 0\n",
    "# for the arithmetic expression to make sense\n",
    "2 * (direction == 'R') - 1"
   ]
  },
  {
   "cell_type": "markdown",
   "metadata": {},
   "source": [
    "This allows one to change the simulation loop as follows:"
   ]
  },
  {
   "cell_type": "code",
   "execution_count": null,
   "metadata": {},
   "outputs": [],
   "source": [
    "tape = [0, 0, 0, 1, 1, 0, 0, 0]\n",
    "current_state = 'del1'\n",
    "current_position = tape.index(1)\n",
    "current_bit = tape[current_position]\n",
    "display_current_configuration()\n",
    "while (current_state, current_bit) in TM_program:\n",
    "    new_state, new_bit, direction = TM_program[current_state, current_bit]\n",
    "    tape[current_position] = new_bit\n",
    "    current_state = new_state\n",
    "    # Alternative notation for\n",
    "    # current_position = current_position + 2 * (direction == 'R') - 1\n",
    "    current_position += 2 * (direction == 'R') - 1\n",
    "    current_bit = tape[current_position]\n",
    "    display_current_configuration()"
   ]
  }
 ],
 "metadata": {
  "kernelspec": {
   "display_name": "Python 3",
   "language": "python",
   "name": "python3"
  },
  "language_info": {
   "codemirror_mode": {
    "name": "ipython",
    "version": 3
   },
   "file_extension": ".py",
   "mimetype": "text/x-python",
   "name": "python",
   "nbconvert_exporter": "python",
   "pygments_lexer": "ipython3",
   "version": "3.7.0"
  },
  "latex_envs": {
   "LaTeX_envs_menu_present": true,
   "autoclose": false,
   "autocomplete": true,
   "bibliofile": "biblio.bib",
   "cite_by": "apalike",
   "current_citInitial": 1,
   "eqLabelWithNumbers": true,
   "eqNumInitial": 1,
   "hotkeys": {
    "equation": "Ctrl-E",
    "itemize": "Ctrl-I"
   },
   "labels_anchors": false,
   "latex_user_defs": false,
   "report_style_numbering": false,
   "user_envs_cfg": false
  }
 },
 "nbformat": 4,
 "nbformat_minor": 2
}
