{
 "cells": [
  {
   "cell_type": "code",
   "execution_count": 5,
   "metadata": {},
   "outputs": [],
   "source": [
    "from IPython.core.interactiveshell import InteractiveShell\n",
    "InteractiveShell.ast_node_interactivity = \"all\""
   ]
  },
  {
   "cell_type": "code",
   "execution_count": 1,
   "metadata": {},
   "outputs": [
    {
     "data": {
      "text/plain": [
       "10"
      ]
     },
     "execution_count": 1,
     "metadata": {},
     "output_type": "execute_result"
    }
   ],
   "source": [
    "10"
   ]
  },
  {
   "cell_type": "code",
   "execution_count": 2,
   "metadata": {},
   "outputs": [
    {
     "data": {
      "text/plain": [
       "10"
      ]
     },
     "execution_count": 2,
     "metadata": {},
     "output_type": "execute_result"
    }
   ],
   "source": [
    "_"
   ]
  },
  {
   "cell_type": "code",
   "execution_count": 9,
   "metadata": {},
   "outputs": [],
   "source": [
    "x,*_,y = (1,2,3,4,5,6,7,8)"
   ]
  },
  {
   "cell_type": "code",
   "execution_count": 10,
   "metadata": {},
   "outputs": [
    {
     "data": {
      "text/plain": [
       "(1, 8)"
      ]
     },
     "execution_count": 10,
     "metadata": {},
     "output_type": "execute_result"
    }
   ],
   "source": [
    "x,y"
   ]
  },
  {
   "cell_type": "code",
   "execution_count": 11,
   "metadata": {},
   "outputs": [
    {
     "name": "stdout",
     "output_type": "stream",
     "text": [
      "2\n",
      "4\n",
      "5\n",
      "8\n"
     ]
    }
   ],
   "source": [
    "for _,val in [(1,2),(3,4),(4,5),(7,8)]:\n",
    "    print(val)"
   ]
  },
  {
   "cell_type": "code",
   "execution_count": 36,
   "metadata": {},
   "outputs": [],
   "source": [
    "class binaryTree():\n",
    "    def __init__(self,value = None):\n",
    "        self.value = value\n",
    "        if self.value is None:\n",
    "            self.left = None\n",
    "            self.right = None\n",
    "        else:\n",
    "            self.left = binaryTree()\n",
    "            self.right = binaryTree()\n",
    "    def size(self):\n",
    "        if self.value is None:\n",
    "            return 0\n",
    "        else:\n",
    "            return self.left.size() + self.right.size() + 1\n",
    "    #tricky\n",
    "    #considered 2 special cases: no node, one node both have 0 height\n",
    "    def height(self):\n",
    "        if self.value is None:\n",
    "            return 0\n",
    "        return max(self.left._height(),self.right._height())\n",
    "    def _height(self):\n",
    "        if self.value is None:\n",
    "            return 0\n",
    "        return max(self.left._height(),self.right._height()) + 1\n",
    "    def display(self):\n",
    "        self._display(0,self.height())\n",
    "    def _display(self,level,height):\n",
    "        if level > height:\n",
    "            return\n",
    "        if self.value is None:\n",
    "            print('\\n'*(2**(height - level+1)-1))\n",
    "        else:\n",
    "            self.left._display(level+1,height)\n",
    "            print('    '*level,self.value, sep = '')\n",
    "            self.right._display(level+1,height)\n",
    "    def is_bst(self):\n",
    "        if self.value is None:\n",
    "            return True\n",
    "        if self.left.value is not None:\n",
    "            largest_on_left = self.left\n",
    "            while largest_on_left.right.value is not None:\n",
    "                largest_on_left = largest_on_left.right\n",
    "            if largest_on_left.value >= self.value:\n",
    "                return False\n",
    "        if self.right.value is not None:\n",
    "            least_on_right = self.right\n",
    "            while least_on_right.left.value is not None:\n",
    "                least_on_right = least_on_right.left\n",
    "            if least_on_right.value <= self.value:\n",
    "                return False \n",
    "            return self.left.is_bst() and self.right.is_bst()\n",
    "    def insert_in_bst(self):\n",
    "        pass\n",
    "    def delete_in_bst(self):\n",
    "        pass\n",
    "        "
   ]
  },
  {
   "cell_type": "code",
   "execution_count": 38,
   "metadata": {},
   "outputs": [
    {
     "data": {
      "text/plain": [
       "5"
      ]
     },
     "execution_count": 38,
     "metadata": {},
     "output_type": "execute_result"
    },
    {
     "name": "stdout",
     "output_type": "stream",
     "text": [
      "\n",
      "\n",
      "    3\n",
      "\n",
      "\n",
      "5\n",
      "\n",
      "\n",
      "    8\n",
      "        10\n"
     ]
    }
   ],
   "source": [
    "t = binaryTree(5)\n",
    "t2 = binaryTree(3)\n",
    "t3 = binaryTree(8)\n",
    "t4 = binaryTree(10)\n",
    "t.left = t2\n",
    "t.value\n",
    "t.right = t3\n",
    "t3.right = t4\n",
    "t.display()"
   ]
  },
  {
   "cell_type": "markdown",
   "metadata": {},
   "source": []
  },
  {
   "cell_type": "code",
   "execution_count": null,
   "metadata": {},
   "outputs": [],
   "source": []
  }
 ],
 "metadata": {
  "kernelspec": {
   "display_name": "Python 3",
   "language": "python",
   "name": "python3"
  },
  "language_info": {
   "codemirror_mode": {
    "name": "ipython",
    "version": 3
   },
   "file_extension": ".py",
   "mimetype": "text/x-python",
   "name": "python",
   "nbconvert_exporter": "python",
   "pygments_lexer": "ipython3",
   "version": "3.6.5"
  },
  "toc": {
   "base_numbering": 1,
   "nav_menu": {},
   "number_sections": true,
   "sideBar": true,
   "skip_h1_title": false,
   "title_cell": "Table of Contents",
   "title_sidebar": "Contents",
   "toc_cell": false,
   "toc_position": {},
   "toc_section_display": true,
   "toc_window_display": false
  }
 },
 "nbformat": 4,
 "nbformat_minor": 2
}
