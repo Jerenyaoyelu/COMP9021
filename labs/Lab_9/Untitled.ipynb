{
 "cells": [
  {
   "cell_type": "code",
   "execution_count": 37,
   "metadata": {},
   "outputs": [],
   "source": [
    "from IPython.core.interactiveshell import InteractiveShell\n",
    "InteractiveShell.ast_node_interactivity = 'all'"
   ]
  },
  {
   "cell_type": "markdown",
   "metadata": {},
   "source": [
    "# Using a stack to evaluate fully parenthesised expressions"
   ]
  },
  {
   "cell_type": "code",
   "execution_count": 125,
   "metadata": {},
   "outputs": [],
   "source": [
    "import sys\n",
    "\n",
    "parentheses = {')':'(',']':'[','}':'{'}\n",
    "operators = {'+':lambda x,y:x+y,'-':lambda x,y:x-y,'*':lambda x,y: x*y,'/':lambda x,y: x/y}\n",
    "#assume all expressions inputted are legal\n",
    "def transform(expression):\n",
    "    new_exp = []\n",
    "    nb = ''\n",
    "    for s in expression:\n",
    "        if s != ' ':\n",
    "            if s in parentheses or s in operators or s in parentheses.values():\n",
    "                if nb != '':\n",
    "                    new_exp.append(int(nb))\n",
    "                    nb = ''\n",
    "                new_exp.append(s)\n",
    "            else:\n",
    "                nb += s\n",
    "    if new_exp == [] and nb != '':\n",
    "        new_exp.append(int(nb))\n",
    "    return new_exp\n",
    "def evaluate(expression):\n",
    "    #using  list as stack\n",
    "    new_exp = transform(expression)\n",
    "    if len(new_exp) == 1:\n",
    "#         if int(new_exp[0]) == new_exp[0]:\n",
    "        if isinstance(new_exp[0],int):\n",
    "        #Return whether an object is an instance of a class or of a subclass thereof\n",
    "            return new_exp[0]\n",
    "    stack = []\n",
    "    result = None\n",
    "    operator = None\n",
    "    for s in new_exp:\n",
    "        if s in parentheses:\n",
    "            result = stack.pop()\n",
    "            if parentheses[s] != stack.pop():\n",
    "                return\n",
    "            while stack:\n",
    "                t = stack.pop()\n",
    "                if t in operators:\n",
    "                    result = operators[t](stack.pop(),result)\n",
    "                else:\n",
    "                    stack.append(t)\n",
    "                    break\n",
    "            stack.append(result)\n",
    "        else:\n",
    "            if s in operators or s in parentheses.values():\n",
    "                stack.append(s)\n",
    "            else:\n",
    "                if stack == []:\n",
    "                    stack.append(s)\n",
    "                temp = stack.pop()\n",
    "                if temp in operators:\n",
    "                    result = stack.pop()\n",
    "                    result = operators[temp](result,s)\n",
    "                    while stack:\n",
    "                        t1 = stack.pop()\n",
    "                        if t1 in operators:\n",
    "                            result = operators[t1](stack.pop(),result)\n",
    "                        else:\n",
    "                            stack.append(t1)\n",
    "                            break\n",
    "                    stack.append(result)\n",
    "                else:\n",
    "                    stack.append(temp)\n",
    "                    stack.append(s)\n",
    "    return result"
   ]
  },
  {
   "cell_type": "code",
   "execution_count": 126,
   "metadata": {},
   "outputs": [
    {
     "data": {
      "text/plain": [
       "100"
      ]
     },
     "execution_count": 126,
     "metadata": {},
     "output_type": "execute_result"
    },
    {
     "data": {
      "text/plain": [
       "281"
      ]
     },
     "execution_count": 126,
     "metadata": {},
     "output_type": "execute_result"
    },
    {
     "data": {
      "text/plain": [
       "600.2"
      ]
     },
     "execution_count": 126,
     "metadata": {},
     "output_type": "execute_result"
    },
    {
     "data": {
      "text/plain": [
       "-319"
      ]
     },
     "execution_count": 126,
     "metadata": {},
     "output_type": "execute_result"
    },
    {
     "data": {
      "text/plain": [
       "2.1189189189189186"
      ]
     },
     "execution_count": 126,
     "metadata": {},
     "output_type": "execute_result"
    }
   ],
   "source": [
    "evaluate('100')\n",
    "evaluate('[(1 - 20) + 300]')\n",
    "evaluate('({1 + (20 * 30)} - [400 / 500])')\n",
    "evaluate('1 - {20 + 300}')\n",
    "evaluate('[1 + {(2 * (3+{4*5})) / ([6*7]-[8/9]) }]')"
   ]
  },
  {
   "cell_type": "code",
   "execution_count": 12,
   "metadata": {},
   "outputs": [
    {
     "data": {
      "text/plain": [
       "True"
      ]
     },
     "execution_count": 12,
     "metadata": {},
     "output_type": "execute_result"
    }
   ],
   "source": [
    "'[' in parentheses.values()"
   ]
  },
  {
   "cell_type": "code",
   "execution_count": 70,
   "metadata": {},
   "outputs": [
    {
     "data": {
      "text/plain": [
       "0.8"
      ]
     },
     "execution_count": 70,
     "metadata": {},
     "output_type": "execute_result"
    }
   ],
   "source": [
    "400 / 500"
   ]
  },
  {
   "cell_type": "code",
   "execution_count": 127,
   "metadata": {},
   "outputs": [
    {
     "name": "stdout",
     "output_type": "stream",
     "text": [
      "Help on built-in function isinstance in module builtins:\n",
      "\n",
      "isinstance(obj, class_or_tuple, /)\n",
      "    Return whether an object is an instance of a class or of a subclass thereof.\n",
      "    \n",
      "    A tuple, as in ``isinstance(x, (A, B, ...))``, may be given as the target to\n",
      "    check against. This is equivalent to ``isinstance(x, A) or isinstance(x, B)\n",
      "    or ...`` etc.\n",
      "\n"
     ]
    }
   ],
   "source": [
    "help(isinstance)"
   ]
  },
  {
   "cell_type": "markdown",
   "metadata": {},
   "source": [
    "# Word ladders"
   ]
  },
  {
   "cell_type": "code",
   "execution_count": 132,
   "metadata": {},
   "outputs": [
    {
     "data": {
      "text/plain": [
       "'\\nComputes all transformations from a word word_1 to a word word_2, consisting of\\nsequences of words of minimal length, starting with word_1, ending in word_2,\\nand such that two consecutive words in the sequence differ by at most one letter.\\nAll words have to occur in a dictionary with name dictionary.txt, stored in the\\nworking directory.\\n'"
      ]
     },
     "execution_count": 132,
     "metadata": {},
     "output_type": "execute_result"
    }
   ],
   "source": [
    "\n",
    "from collections import defaultdict, deque\n",
    "import sys\n",
    "\n",
    "\n",
    "'''\n",
    "Computes all transformations from a word word_1 to a word word_2, consisting of\n",
    "sequences of words of minimal length, starting with word_1, ending in word_2,\n",
    "and such that two consecutive words in the sequence differ by at most one letter.\n",
    "All words have to occur in a dictionary with name dictionary.txt, stored in the\n",
    "working directory.\n",
    "'''\n",
    "\n",
    "\n",
    "dictionary_file = 'dictionary.txt'\n",
    "def get_words_and_word_relationships():\n",
    "    #this is from Eric, way way better algorithm!\n",
    "    try:\n",
    "        with open(dictionary_file) as dictionary:\n",
    "            lexicon = set()\n",
    "            contextual_slots = defaultdict(list)\n",
    "            for word in dictionary:\n",
    "                word = word.rstrip()\n",
    "                lexicon.add(word)\n",
    "                for i in range(len(word)):\n",
    "                    contextual_slots[word[: i], word[i + 1: ]].append(word)\n",
    "            closest_words = defaultdict(set)\n",
    "            for slot in contextual_slots:\n",
    "                for i in range(len(contextual_slots[slot])):\n",
    "                    for j in range(i + 1, len(contextual_slots[slot])):\n",
    "                        closest_words[contextual_slots[slot][i]].add(contextual_slots[slot][j])\n",
    "                        closest_words[contextual_slots[slot][j]].add(contextual_slots[slot][i])\n",
    "            return lexicon, closest_words\n",
    "    except FileNotFoundError:\n",
    "        print(f'Could not open {dictionary_file}. Giving up...')\n",
    "        sys.exit()\n",
    "\t# Replace pass above with your code\n",
    "\n",
    "def word_ladder(word_1, word_2):\n",
    "    lexicon, closest_words = get_words_and_word_relationships()\n",
    "    # Complete this function\n",
    "    solution = []\n",
    "    queue = deque()\n",
    "    queue.appendleft([word_1])\n",
    "    min_len = float('inf')\n",
    "    while queue:\n",
    "        path = queue.pop()\n",
    "        if len(path) < min_len:\n",
    "            parent = path[-1]\n",
    "            if parent in closest_words:\n",
    "                for child in closest_words[parent]:\n",
    "                    if child == word_2:\n",
    "                        path += [child]\n",
    "                        min_len = len(path)\n",
    "                        solution.append(path)\n",
    "                    else:\n",
    "                        queue.appendleft(path+[child])\n",
    "    return solution"
   ]
  },
  {
   "cell_type": "code",
   "execution_count": null,
   "metadata": {},
   "outputs": [
    {
     "data": {
      "text/plain": [
       "[['COLD', 'CORD', 'WORD', 'WARD', 'WARM'],\n",
       " ['COLD', 'CORD', 'WORD', 'WORM', 'WARM'],\n",
       " ['COLD', 'CORD', 'CARD', 'WARD', 'WARM']]"
      ]
     },
     "execution_count": 137,
     "metadata": {},
     "output_type": "execute_result"
    }
   ],
   "source": [
    "word_ladder('COLD', 'WARM')\n",
    "word_ladder('TRAIN', 'BIKES')"
   ]
  },
  {
   "cell_type": "code",
   "execution_count": 136,
   "metadata": {},
   "outputs": [
    {
     "data": {
      "text/plain": [
       "3"
      ]
     },
     "execution_count": 136,
     "metadata": {},
     "output_type": "execute_result"
    }
   ],
   "source": [
    "a=(1,2)+(2,3)\n",
    "a[-1]"
   ]
  },
  {
   "cell_type": "markdown",
   "metadata": {},
   "source": []
  }
 ],
 "metadata": {
  "kernelspec": {
   "display_name": "Python 3",
   "language": "python",
   "name": "python3"
  },
  "language_info": {
   "codemirror_mode": {
    "name": "ipython",
    "version": 3
   },
   "file_extension": ".py",
   "mimetype": "text/x-python",
   "name": "python",
   "nbconvert_exporter": "python",
   "pygments_lexer": "ipython3",
   "version": "3.6.5"
  },
  "toc": {
   "base_numbering": 1,
   "nav_menu": {},
   "number_sections": true,
   "sideBar": true,
   "skip_h1_title": false,
   "title_cell": "Table of Contents",
   "title_sidebar": "Contents",
   "toc_cell": false,
   "toc_position": {},
   "toc_section_display": true,
   "toc_window_display": false
  }
 },
 "nbformat": 4,
 "nbformat_minor": 2
}
