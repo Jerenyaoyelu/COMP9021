{
 "cells": [
  {
   "cell_type": "code",
   "execution_count": 12,
   "metadata": {},
   "outputs": [],
   "source": [
    "# Does not need to be executed if ~/.ipython/profile_default/ipython_config.py\n",
    "# exists and contains get_config().InteractiveShell.ast_node_interactivity = 'all'\n",
    "\n",
    "from IPython.core.interactiveshell import InteractiveShell\n",
    "InteractiveShell.ast_node_interactivity = 'all'"
   ]
  },
  {
   "cell_type": "markdown",
   "metadata": {},
   "source": [
    "<div class=\"alert alert-info\" style=\"font-size:150%\">Quiz 1</div>"
   ]
  },
  {
   "cell_type": "markdown",
   "metadata": {},
   "source": [
    "<div class=\"alert alert-info\" style=\"font-size:150%\">Quiz 2</div>"
   ]
  },
  {
   "cell_type": "markdown",
   "metadata": {},
   "source": [
    "if you have an iterable and if you use list comprehension, then you used up the iterable."
   ]
  },
  {
   "cell_type": "markdown",
   "metadata": {},
   "source": [
    "When I filter, the results appears to be different each time ---> that's because when you do combinations and do set, the list is not in order."
   ]
  },
  {
   "cell_type": "markdown",
   "metadata": {},
   "source": [
    "When you do set = (some list), then order is not guaranteed to be preserved"
   ]
  },
  {
   "cell_type": "markdown",
   "metadata": {},
   "source": [
    "### sorted() does not modify original but sort does"
   ]
  },
  {
   "cell_type": "code",
   "execution_count": 33,
   "metadata": {},
   "outputs": [
    {
     "data": {
      "text/plain": [
       "[3, 2, 1]"
      ]
     },
     "execution_count": 33,
     "metadata": {},
     "output_type": "execute_result"
    }
   ],
   "source": [
    "L = [3 , 2, 1]\n",
    "sorted(L)\n",
    "L"
   ]
  },
  {
   "cell_type": "code",
   "execution_count": 34,
   "metadata": {},
   "outputs": [
    {
     "data": {
      "text/plain": [
       "[1, 2, 3]"
      ]
     },
     "execution_count": 34,
     "metadata": {},
     "output_type": "execute_result"
    }
   ],
   "source": [
    "L = [3 , 2, 1]\n",
    "L =sorted(L)\n",
    "L"
   ]
  },
  {
   "cell_type": "code",
   "execution_count": 37,
   "metadata": {},
   "outputs": [
    {
     "data": {
      "text/plain": [
       "[1, 2, 3]"
      ]
     },
     "execution_count": 37,
     "metadata": {},
     "output_type": "execute_result"
    }
   ],
   "source": [
    "L = [3 , 2, 1]\n",
    "L.sort()\n",
    "L"
   ]
  },
  {
   "cell_type": "code",
   "execution_count": 42,
   "metadata": {},
   "outputs": [
    {
     "data": {
      "text/plain": [
       "2"
      ]
     },
     "execution_count": 42,
     "metadata": {},
     "output_type": "execute_result"
    }
   ],
   "source": [
    "L = [(1,2),(3,4),(5,6222)]\n",
    "min(map(len, L))  \n"
   ]
  },
  {
   "cell_type": "code",
   "execution_count": 53,
   "metadata": {
    "scrolled": true
   },
   "outputs": [
    {
     "name": "stdout",
     "output_type": "stream",
     "text": [
      "2\n"
     ]
    }
   ],
   "source": [
    "abc = min(len(str(x[0])+str(x[1])) for x in L)\n",
    "print(abc)"
   ]
  },
  {
   "cell_type": "code",
   "execution_count": 52,
   "metadata": {},
   "outputs": [
    {
     "data": {
      "text/plain": [
       "2"
      ]
     },
     "execution_count": 52,
     "metadata": {},
     "output_type": "execute_result"
    }
   ],
   "source": [
    "min(abc)"
   ]
  },
  {
   "cell_type": "code",
   "execution_count": 55,
   "metadata": {},
   "outputs": [],
   "source": [
    "L = [(1,2),(3,4),(5,6222)]"
   ]
  },
  {
   "cell_type": "code",
   "execution_count": 56,
   "metadata": {},
   "outputs": [
    {
     "data": {
      "text/plain": [
       "6222"
      ]
     },
     "execution_count": 56,
     "metadata": {},
     "output_type": "execute_result"
    }
   ],
   "source": [
    "max(x[1] for x in L)"
   ]
  },
  {
   "cell_type": "code",
   "execution_count": 74,
   "metadata": {},
   "outputs": [],
   "source": [
    "dict1 = dict()"
   ]
  },
  {
   "cell_type": "code",
   "execution_count": 60,
   "metadata": {},
   "outputs": [],
   "source": [
    "dict1['a'] = [1]"
   ]
  },
  {
   "cell_type": "code",
   "execution_count": 61,
   "metadata": {},
   "outputs": [
    {
     "data": {
      "text/plain": [
       "{'a': [1]}"
      ]
     },
     "execution_count": 61,
     "metadata": {},
     "output_type": "execute_result"
    }
   ],
   "source": [
    "dict1"
   ]
  },
  {
   "cell_type": "code",
   "execution_count": 62,
   "metadata": {},
   "outputs": [],
   "source": [
    "dict1['a'].append(2)"
   ]
  },
  {
   "cell_type": "code",
   "execution_count": 73,
   "metadata": {},
   "outputs": [
    {
     "data": {
      "text/plain": [
       "{'a': [30, 30]}"
      ]
     },
     "execution_count": 73,
     "metadata": {},
     "output_type": "execute_result"
    }
   ],
   "source": [
    "dict1"
   ]
  },
  {
   "cell_type": "code",
   "execution_count": 65,
   "metadata": {},
   "outputs": [
    {
     "data": {
      "text/plain": [
       "False"
      ]
     },
     "execution_count": 65,
     "metadata": {},
     "output_type": "execute_result"
    }
   ],
   "source": [
    "'b' in dict1"
   ]
  },
  {
   "cell_type": "code",
   "execution_count": 93,
   "metadata": {},
   "outputs": [],
   "source": [
    "s = {1, 2, 3}\n",
    "s2 = {3}\n",
    "s = s - s2"
   ]
  },
  {
   "cell_type": "code",
   "execution_count": 107,
   "metadata": {},
   "outputs": [],
   "source": [
    "dict1 = {1: [4, 2, 4, 2, 4, 2], 2: [3, 3, 3, 2], 3: [11]}"
   ]
  },
  {
   "cell_type": "code",
   "execution_count": 112,
   "metadata": {},
   "outputs": [
    {
     "name": "stdout",
     "output_type": "stream",
     "text": [
      "Counter({4: 3, 2: 3})\n",
      "[(4, 3)]\n",
      "Counter({3: 3, 2: 1})\n",
      "[(3, 3)]\n",
      "Counter({11: 1})\n",
      "[(11, 1)]\n"
     ]
    }
   ],
   "source": [
    "from collections import Counter\n",
    "for value in dict1.values():\n",
    "    value_c = Counter(value)\n",
    "    print(value_c)\n",
    "    print(value_c.most_common(1))"
   ]
  },
  {
   "cell_type": "markdown",
   "metadata": {},
   "source": [
    "<div class=\"alert alert-info\" style=\"font-size:150%\">Quiz 3\n",
    "</div>"
   ]
  },
  {
   "cell_type": "markdown",
   "metadata": {},
   "source": [
    "<div class=\"alert alert-info\" style=\"font-size:150%\">Quiz 4\n",
    "\n",
    "</div>"
   ]
  },
  {
   "cell_type": "code",
   "execution_count": 7,
   "metadata": {},
   "outputs": [],
   "source": [
    "import itertools\n",
    "import operator"
   ]
  },
  {
   "cell_type": "markdown",
   "metadata": {},
   "source": [
    "in Python3, you cannot accept tuples as lambda arguments, so \"lambda i, x: ___\" doest not work\n",
    "---https://stackoverflow.com/questions/21892989/what-is-the-good-python3-equivalent-for-auto-tuple-unpacking-in-lambda"
   ]
  },
  {
   "cell_type": "code",
   "execution_count": 9,
   "metadata": {},
   "outputs": [
    {
     "data": {
      "text/plain": [
       "'B'"
      ]
     },
     "execution_count": 9,
     "metadata": {},
     "output_type": "execute_result"
    }
   ],
   "source": [
    "# https://docs.python.org/3/library/operator.html\n",
    "# can be used as a mask or can access certain rows in 2D array\n",
    "operator.itemgetter(1)('ABCDEFG')"
   ]
  },
  {
   "cell_type": "markdown",
   "metadata": {},
   "source": [
    "I should use Pandas groupby sometime"
   ]
  },
  {
   "cell_type": "code",
   "execution_count": 50,
   "metadata": {},
   "outputs": [
    {
     "name": "stdout",
     "output_type": "stream",
     "text": [
      "[1]\n",
      "[4, 5, 6]\n",
      "[10]\n",
      "[15, 16, 17, 18]\n",
      "[22]\n",
      "[25, 26, 27, 28]\n"
     ]
    }
   ],
   "source": [
    "L = [ 1,  4,5,6, 10, 15,16,17,18, 22, 25,26,27,28]\n",
    "for k, g in itertools.groupby( enumerate(L), lambda x: x[1]-x[0] ) :\n",
    "  print (list(map(itemgetter(1), g)))"
   ]
  },
  {
   "cell_type": "code",
   "execution_count": 54,
   "metadata": {},
   "outputs": [
    {
     "data": {
      "text/plain": [
       "[{1}, {4, 5, 6}, {10}, {15, 16, 17, 18}, {22}, {25, 26, 27, 28}]"
      ]
     },
     "execution_count": 54,
     "metadata": {},
     "output_type": "execute_result"
    }
   ],
   "source": [
    "L = [ 1,  4,5,6, 10, 15,16,17,18, 22, 25,26,27,28]\n",
    "[set(map(itemgetter(1), g)) for k, g in itertools.groupby( enumerate(L), lambda x: x[1]-x[0]) ]\n"
   ]
  },
  {
   "cell_type": "code",
   "execution_count": 249,
   "metadata": {},
   "outputs": [
    {
     "data": {
      "text/plain": [
       "[0, 3, 4, 6, 7]"
      ]
     },
     "execution_count": 249,
     "metadata": {},
     "output_type": "execute_result"
    },
    {
     "data": {
      "text/plain": [
       "(array([0, 3, 4, 6, 7], dtype=int64),)"
      ]
     },
     "execution_count": 249,
     "metadata": {},
     "output_type": "execute_result"
    },
    {
     "data": {
      "text/plain": [
       "(array([0, 3, 4, 6, 7], dtype=int64),)"
      ]
     },
     "execution_count": 249,
     "metadata": {},
     "output_type": "execute_result"
    },
    {
     "data": {
      "text/plain": [
       "array([0, 3, 4, 6, 7])"
      ]
     },
     "execution_count": 249,
     "metadata": {},
     "output_type": "execute_result"
    }
   ],
   "source": [
    "# masking\n",
    "test = [True, False, False, True, True, False, True, True, False, False]\n",
    "[i  for i, x in enumerate(test) if x]\n",
    "\n",
    "\n",
    "test1 = np.array(test)\n",
    "\n",
    "import numpy as np\n",
    "np.where(test1 == True)\n",
    "np.where(test1)\n",
    "\n",
    "# problem with above is that it creates tuples of tuples...\n",
    "np.arange(10)[test1]\n"
   ]
  },
  {
   "cell_type": "code",
   "execution_count": 318,
   "metadata": {},
   "outputs": [
    {
     "name": "stdout",
     "output_type": "stream",
     "text": [
      "0 3\n",
      "1 2\n",
      "2 1\n"
     ]
    }
   ],
   "source": [
    "# you can iterate backwards with:\n",
    "L = [1, 2, 3]\n",
    "for i, x in enumerate(L[::-1]):\n",
    "    print(i, x)"
   ]
  },
  {
   "cell_type": "code",
   "execution_count": 5,
   "metadata": {},
   "outputs": [
    {
     "ename": "ValueError",
     "evalue": "empty range for randrange()",
     "output_type": "error",
     "traceback": [
      "\u001b[1;31m---------------------------------------------------------------------------\u001b[0m",
      "\u001b[1;31mValueError\u001b[0m                                Traceback (most recent call last)",
      "\u001b[1;32m<ipython-input-5-c3e4ce2909e4>\u001b[0m in \u001b[0;36m<module>\u001b[1;34m()\u001b[0m\n\u001b[0;32m     50\u001b[0m     \u001b[1;32mfor\u001b[0m \u001b[0mt2\u001b[0m \u001b[1;32min\u001b[0m \u001b[0mrange\u001b[0m\u001b[1;33m(\u001b[0m\u001b[1;36m0\u001b[0m\u001b[1;33m,\u001b[0m \u001b[1;36m20\u001b[0m\u001b[1;33m)\u001b[0m\u001b[1;33m:\u001b[0m\u001b[1;33m\u001b[0m\u001b[0m\n\u001b[0;32m     51\u001b[0m         \u001b[0mn\u001b[0m \u001b[1;33m=\u001b[0m \u001b[0mt2\u001b[0m\u001b[1;33m\u001b[0m\u001b[0m\n\u001b[1;32m---> 52\u001b[1;33m         \u001b[0mmax_block\u001b[0m \u001b[1;33m=\u001b[0m \u001b[0mcount_blocks\u001b[0m\u001b[1;33m(\u001b[0m\u001b[0mdim\u001b[0m\u001b[1;33m,\u001b[0m \u001b[0mfor_seed\u001b[0m\u001b[1;33m,\u001b[0m \u001b[0mn\u001b[0m\u001b[1;33m)\u001b[0m\u001b[1;33m\u001b[0m\u001b[0m\n\u001b[0m\u001b[0;32m     53\u001b[0m         \u001b[0mprint_result\u001b[0m\u001b[1;33m(\u001b[0m\u001b[1;33m)\u001b[0m\u001b[1;33m\u001b[0m\u001b[0m\n",
      "\u001b[1;32m<ipython-input-5-c3e4ce2909e4>\u001b[0m in \u001b[0;36mcount_blocks\u001b[1;34m(dim, for_seed, n)\u001b[0m\n\u001b[0;32m     10\u001b[0m \u001b[1;32mdef\u001b[0m \u001b[0mcount_blocks\u001b[0m\u001b[1;33m(\u001b[0m\u001b[0mdim\u001b[0m\u001b[1;33m,\u001b[0m \u001b[0mfor_seed\u001b[0m\u001b[1;33m,\u001b[0m \u001b[0mn\u001b[0m\u001b[1;33m)\u001b[0m\u001b[1;33m:\u001b[0m\u001b[1;33m\u001b[0m\u001b[0m\n\u001b[0;32m     11\u001b[0m     \u001b[0mseed\u001b[0m\u001b[1;33m(\u001b[0m\u001b[0mfor_seed\u001b[0m\u001b[1;33m)\u001b[0m\u001b[1;33m\u001b[0m\u001b[0m\n\u001b[1;32m---> 12\u001b[1;33m     \u001b[0mgrid\u001b[0m \u001b[1;33m=\u001b[0m \u001b[1;33m[\u001b[0m\u001b[1;33m[\u001b[0m\u001b[0mbool\u001b[0m\u001b[1;33m(\u001b[0m\u001b[0mrandrange\u001b[0m\u001b[1;33m(\u001b[0m\u001b[0mn\u001b[0m\u001b[1;33m)\u001b[0m\u001b[1;33m)\u001b[0m \u001b[1;32mfor\u001b[0m \u001b[0m_\u001b[0m \u001b[1;32min\u001b[0m \u001b[0mrange\u001b[0m\u001b[1;33m(\u001b[0m\u001b[0mdim\u001b[0m\u001b[1;33m)\u001b[0m\u001b[1;33m]\u001b[0m \u001b[1;32mfor\u001b[0m \u001b[0m_\u001b[0m \u001b[1;32min\u001b[0m \u001b[0mrange\u001b[0m\u001b[1;33m(\u001b[0m\u001b[0mdim\u001b[0m\u001b[1;33m)\u001b[0m\u001b[1;33m]\u001b[0m\u001b[1;33m\u001b[0m\u001b[0m\n\u001b[0m\u001b[0;32m     13\u001b[0m     \u001b[0mgrid_np\u001b[0m \u001b[1;33m=\u001b[0m \u001b[0mnp\u001b[0m\u001b[1;33m.\u001b[0m\u001b[0marray\u001b[0m\u001b[1;33m(\u001b[0m\u001b[0mgrid\u001b[0m\u001b[1;33m)\u001b[0m\u001b[1;33m\u001b[0m\u001b[0m\n\u001b[0;32m     14\u001b[0m \u001b[1;33m\u001b[0m\u001b[0m\n",
      "\u001b[1;32m<ipython-input-5-c3e4ce2909e4>\u001b[0m in \u001b[0;36m<listcomp>\u001b[1;34m(.0)\u001b[0m\n\u001b[0;32m     10\u001b[0m \u001b[1;32mdef\u001b[0m \u001b[0mcount_blocks\u001b[0m\u001b[1;33m(\u001b[0m\u001b[0mdim\u001b[0m\u001b[1;33m,\u001b[0m \u001b[0mfor_seed\u001b[0m\u001b[1;33m,\u001b[0m \u001b[0mn\u001b[0m\u001b[1;33m)\u001b[0m\u001b[1;33m:\u001b[0m\u001b[1;33m\u001b[0m\u001b[0m\n\u001b[0;32m     11\u001b[0m     \u001b[0mseed\u001b[0m\u001b[1;33m(\u001b[0m\u001b[0mfor_seed\u001b[0m\u001b[1;33m)\u001b[0m\u001b[1;33m\u001b[0m\u001b[0m\n\u001b[1;32m---> 12\u001b[1;33m     \u001b[0mgrid\u001b[0m \u001b[1;33m=\u001b[0m \u001b[1;33m[\u001b[0m\u001b[1;33m[\u001b[0m\u001b[0mbool\u001b[0m\u001b[1;33m(\u001b[0m\u001b[0mrandrange\u001b[0m\u001b[1;33m(\u001b[0m\u001b[0mn\u001b[0m\u001b[1;33m)\u001b[0m\u001b[1;33m)\u001b[0m \u001b[1;32mfor\u001b[0m \u001b[0m_\u001b[0m \u001b[1;32min\u001b[0m \u001b[0mrange\u001b[0m\u001b[1;33m(\u001b[0m\u001b[0mdim\u001b[0m\u001b[1;33m)\u001b[0m\u001b[1;33m]\u001b[0m \u001b[1;32mfor\u001b[0m \u001b[0m_\u001b[0m \u001b[1;32min\u001b[0m \u001b[0mrange\u001b[0m\u001b[1;33m(\u001b[0m\u001b[0mdim\u001b[0m\u001b[1;33m)\u001b[0m\u001b[1;33m]\u001b[0m\u001b[1;33m\u001b[0m\u001b[0m\n\u001b[0m\u001b[0;32m     13\u001b[0m     \u001b[0mgrid_np\u001b[0m \u001b[1;33m=\u001b[0m \u001b[0mnp\u001b[0m\u001b[1;33m.\u001b[0m\u001b[0marray\u001b[0m\u001b[1;33m(\u001b[0m\u001b[0mgrid\u001b[0m\u001b[1;33m)\u001b[0m\u001b[1;33m\u001b[0m\u001b[0m\n\u001b[0;32m     14\u001b[0m \u001b[1;33m\u001b[0m\u001b[0m\n",
      "\u001b[1;32m<ipython-input-5-c3e4ce2909e4>\u001b[0m in \u001b[0;36m<listcomp>\u001b[1;34m(.0)\u001b[0m\n\u001b[0;32m     10\u001b[0m \u001b[1;32mdef\u001b[0m \u001b[0mcount_blocks\u001b[0m\u001b[1;33m(\u001b[0m\u001b[0mdim\u001b[0m\u001b[1;33m,\u001b[0m \u001b[0mfor_seed\u001b[0m\u001b[1;33m,\u001b[0m \u001b[0mn\u001b[0m\u001b[1;33m)\u001b[0m\u001b[1;33m:\u001b[0m\u001b[1;33m\u001b[0m\u001b[0m\n\u001b[0;32m     11\u001b[0m     \u001b[0mseed\u001b[0m\u001b[1;33m(\u001b[0m\u001b[0mfor_seed\u001b[0m\u001b[1;33m)\u001b[0m\u001b[1;33m\u001b[0m\u001b[0m\n\u001b[1;32m---> 12\u001b[1;33m     \u001b[0mgrid\u001b[0m \u001b[1;33m=\u001b[0m \u001b[1;33m[\u001b[0m\u001b[1;33m[\u001b[0m\u001b[0mbool\u001b[0m\u001b[1;33m(\u001b[0m\u001b[0mrandrange\u001b[0m\u001b[1;33m(\u001b[0m\u001b[0mn\u001b[0m\u001b[1;33m)\u001b[0m\u001b[1;33m)\u001b[0m \u001b[1;32mfor\u001b[0m \u001b[0m_\u001b[0m \u001b[1;32min\u001b[0m \u001b[0mrange\u001b[0m\u001b[1;33m(\u001b[0m\u001b[0mdim\u001b[0m\u001b[1;33m)\u001b[0m\u001b[1;33m]\u001b[0m \u001b[1;32mfor\u001b[0m \u001b[0m_\u001b[0m \u001b[1;32min\u001b[0m \u001b[0mrange\u001b[0m\u001b[1;33m(\u001b[0m\u001b[0mdim\u001b[0m\u001b[1;33m)\u001b[0m\u001b[1;33m]\u001b[0m\u001b[1;33m\u001b[0m\u001b[0m\n\u001b[0m\u001b[0;32m     13\u001b[0m     \u001b[0mgrid_np\u001b[0m \u001b[1;33m=\u001b[0m \u001b[0mnp\u001b[0m\u001b[1;33m.\u001b[0m\u001b[0marray\u001b[0m\u001b[1;33m(\u001b[0m\u001b[0mgrid\u001b[0m\u001b[1;33m)\u001b[0m\u001b[1;33m\u001b[0m\u001b[0m\n\u001b[0;32m     14\u001b[0m \u001b[1;33m\u001b[0m\u001b[0m\n",
      "\u001b[1;32mD:\\Program_Files\\Anaconda3\\lib\\random.py\u001b[0m in \u001b[0;36mrandrange\u001b[1;34m(self, start, stop, step, _int)\u001b[0m\n\u001b[0;32m    187\u001b[0m             \u001b[1;32mif\u001b[0m \u001b[0mistart\u001b[0m \u001b[1;33m>\u001b[0m \u001b[1;36m0\u001b[0m\u001b[1;33m:\u001b[0m\u001b[1;33m\u001b[0m\u001b[0m\n\u001b[0;32m    188\u001b[0m                 \u001b[1;32mreturn\u001b[0m \u001b[0mself\u001b[0m\u001b[1;33m.\u001b[0m\u001b[0m_randbelow\u001b[0m\u001b[1;33m(\u001b[0m\u001b[0mistart\u001b[0m\u001b[1;33m)\u001b[0m\u001b[1;33m\u001b[0m\u001b[0m\n\u001b[1;32m--> 189\u001b[1;33m             \u001b[1;32mraise\u001b[0m \u001b[0mValueError\u001b[0m\u001b[1;33m(\u001b[0m\u001b[1;34m\"empty range for randrange()\"\u001b[0m\u001b[1;33m)\u001b[0m\u001b[1;33m\u001b[0m\u001b[0m\n\u001b[0m\u001b[0;32m    190\u001b[0m \u001b[1;33m\u001b[0m\u001b[0m\n\u001b[0;32m    191\u001b[0m         \u001b[1;31m# stop argument supplied.\u001b[0m\u001b[1;33m\u001b[0m\u001b[1;33m\u001b[0m\u001b[0m\n",
      "\u001b[1;31mValueError\u001b[0m: empty range for randrange()"
     ]
    }
   ],
   "source": [
    "from random import seed, randrange\n",
    "import sys\n",
    "import numpy as np\n",
    "import itertools\n",
    "import operator\n",
    "\n",
    "\n",
    "\n",
    "\n",
    "def count_blocks(dim, for_seed, n):\n",
    "    seed(for_seed)\n",
    "    grid = [[bool(randrange(n)) for _ in range(dim)] for _ in range(dim)]\n",
    "    grid_np = np.array(grid)\n",
    "\n",
    "    # ones is a matrix of each row showing indices where grid == True\n",
    "    ones = []\n",
    "    for row in grid_np:\n",
    "        ones.append(np.arange(dim)[row])\n",
    "\n",
    "    # consecutive_ones is a matrix of each row showing a list of sets of consecutive numbers\n",
    "    consecutive_ones = []\n",
    "    for row in ones:\n",
    "        L = row.tolist()\n",
    "        consecutive_ones.append([set(map(operator.itemgetter(1), g)) for k, g in itertools.groupby( enumerate(L), lambda x: x[1]-x[0])])\n",
    "\n",
    "    max_block = 0\n",
    "    for row in range(dim - 1, -1, -1):   # count backwards\n",
    "        for x in consecutive_ones[row]:\n",
    "            temp = x\n",
    "            block = len(temp)\n",
    "            # look up the stack\n",
    "            for row2 in range(row - 1, -1, -1):\n",
    "                temp = temp & set(ones[row2])\n",
    "                if len(temp) == 0:\n",
    "                    break\n",
    "                block += len(temp)\n",
    "            max_block = max(max_block, block)\n",
    "    return max_block\n",
    "\n",
    "            \n",
    "def print_result():\n",
    "    print(f'dim: {dim}, for_seed: {for_seed}, n: {n} ==> max_block is {max_block}')\n",
    "\n",
    "    \n",
    "dim = 10\n",
    "for t1 in range(0, 10):\n",
    "    for_seed = t1\n",
    "    for t2 in range(0, 20):\n",
    "        n = t2        \n",
    "        ### code here ####\n",
    "        ### max_block is my version of total number of blocks\n",
    "        print(f'dim: {dim}, for_seed: {for_seed}, n: {n} ==> max_block is {max_block}')\n",
    "            \n",
    "            "
   ]
  },
  {
   "cell_type": "code",
   "execution_count": null,
   "metadata": {},
   "outputs": [],
   "source": []
  },
  {
   "cell_type": "markdown",
   "metadata": {},
   "source": [
    "<button class=\"btn btn-primary btn-lg btn-block\">Redo</button>"
   ]
  },
  {
   "cell_type": "markdown",
   "metadata": {},
   "source": [
    "<div class=\"alert alert-info\" style=\"font-size:150%\">Quiz 1 - Redo - 1 hour</div>"
   ]
  },
  {
   "cell_type": "code",
   "execution_count": 2,
   "metadata": {},
   "outputs": [
    {
     "name": "stdout",
     "output_type": "stream",
     "text": [
      "[266286, 41905292, 70335023, 76567783, 44922498, 39290063, 21983326, 46748446, 22233298, 19806125]\n"
     ]
    },
    {
     "data": {
      "text/plain": [
       "{(2, 6), (7, 3)}"
      ]
     },
     "execution_count": 2,
     "metadata": {},
     "output_type": "execute_result"
    }
   ],
   "source": [
    "import sys\n",
    "from random import seed, randrange\n",
    "    \n",
    "arg_for_seed = 105\n",
    "\n",
    "seed(arg_for_seed)\n",
    "x = randrange(10 ** 10)\n",
    "L = [randrange(10 ** 8) for _ in range(10)]\n",
    "\n",
    "\n",
    "\n",
    "### My Code ###\n",
    "### 1: sum of digits in x\n",
    "x1 = list(str(x))\n",
    "sum_of_digits_in_x = sum([int(k) for k in x1])\n",
    "sum_of_digits_in_x\n",
    "\n",
    "### 2: compare first and last digit\n",
    "first_digit_greater_than_last = 0\n",
    "same_first_and_last_digits = 0\n",
    "last_digit_greater_than_first = 0\n",
    "\n",
    "for num in L:\n",
    "    fd = int(str(num)[0])\n",
    "    ld = int(str(num)[-1])\n",
    "    first_digit_greater_than_last += 1 * (fd > ld)\n",
    "    same_first_and_last_digits += 1 * (fd == ld)\n",
    "    last_digit_greater_than_first += 1 * (fd < ld)\n",
    "\n",
    "first_digit_greater_than_last\n",
    "same_first_and_last_digits\n",
    "last_digit_greater_than_first\n",
    "\n",
    "### 3: distinct digits\n",
    "distinct_digits = [0] * 9\n",
    "\n",
    "from collections import Counter\n",
    "\n",
    "# method 1: method 1 only goes through loop once\n",
    "for num in L:\n",
    "    dd = len(list(Counter(str(num)).keys()))   # distinct digit\n",
    "    distinct_digits[dd] += 1\n",
    "\n",
    "print(L)\n",
    "    \n",
    "# method 2: Original method. Takes longer but uses set.\n",
    "c =   Counter(len(set(str(item))) for item in L)\n",
    "for i in c:\n",
    "    distinct_digits[i]= c[i]\n",
    "    \n",
    "###*********************************************************************************\n",
    "#best method is to use set() to count distinct but uses method 1 to use only one loop\n",
    "###*******************************************************************************    \n",
    "    \n",
    "distinct_digits\n",
    "\n",
    "### 4: min/max gap\n",
    "# ---- I originally created a list of gap which is inferior\n",
    "min_gap = 10\n",
    "max_gap = -1\n",
    "\n",
    "for num in L:\n",
    "    fd = int(str(num)[0])\n",
    "    ld = int(str(num)[-1])\n",
    "    gap = abs(fd - ld)\n",
    "    min_gap = min(min_gap, gap)\n",
    "    max_gap = max(max_gap, gap)\n",
    "    \n",
    "min_gap\n",
    "max_gap\n",
    "\n",
    "### 5: (f, l) pairs # of times occurring\n",
    "### ------------Note: Counter.most_common() won't find all the lsit of most occurances...\n",
    "### ----- my first implementation is same as this one without using numpy\n",
    "\n",
    "import numpy as np\n",
    "\n",
    "first_and_last = set()\n",
    "\n",
    "fl = []\n",
    "for num in L:\n",
    "    fl.append((int(str(num)[0]), int(str(num)[-1])))\n",
    "\n",
    "\n",
    "fl_c = Counter(fl)\n",
    "no_times_most_common = fl_c.most_common()[0][1]\n",
    "\n",
    "\n",
    "# method 1\n",
    "most_common = np.array(fl_c.most_common())\n",
    "\n",
    "for k in most_common:\n",
    "    if k[1] == no_times_most_common:\n",
    "        first_and_last.add(k[0])\n",
    "        \n",
    "# **************************\n",
    "# better method\n",
    "# **************************\n",
    "# method 2\n",
    "first_and_last = set(k for k, count in fl_c.most_common() if count == no_times_most_common)\n",
    "first_and_last\n",
    "\n"
   ]
  },
  {
   "cell_type": "markdown",
   "metadata": {},
   "source": [
    "<div class=\"alert alert-info\" style=\"font-size:150%\">Quiz 2 - Redo - 2 hours</div>"
   ]
  },
  {
   "cell_type": "code",
   "execution_count": 7,
   "metadata": {
    "code_folding": [],
    "scrolled": true
   },
   "outputs": [
    {
     "name": "stdout",
     "output_type": "stream",
     "text": [
      "Here is L:\n",
      "[3, 10, 2, 5, 2, 8, 8, 8, 7, 4]\n"
     ]
    },
    {
     "data": {
      "text/plain": [
       "[(2, 2),\n",
       " (2, 3),\n",
       " (2, 4),\n",
       " (2, 5),\n",
       " (2, 7),\n",
       " (2, 8),\n",
       " (2, 10),\n",
       " (3, 3),\n",
       " (3, 4),\n",
       " (3, 5),\n",
       " (3, 7),\n",
       " (3, 8),\n",
       " (3, 10),\n",
       " (4, 4),\n",
       " (4, 5),\n",
       " (4, 7),\n",
       " (4, 8),\n",
       " (4, 10),\n",
       " (5, 5),\n",
       " (5, 7),\n",
       " (5, 8),\n",
       " (5, 10),\n",
       " (7, 7),\n",
       " (7, 8),\n",
       " (7, 10),\n",
       " (8, 8),\n",
       " (8, 10),\n",
       " (10, 10)]"
      ]
     },
     "execution_count": 7,
     "metadata": {},
     "output_type": "execute_result"
    }
   ],
   "source": [
    "import sys\n",
    "from random import seed, randint\n",
    "from math import gcd\n",
    "\n",
    "arg_for_seed = 1\n",
    "length = 10\n",
    "max_value = 10\n",
    "    \n",
    "seed(arg_for_seed)\n",
    "L = [randint(1, max_value) for _ in range(length)]\n",
    "print('Here is L:')\n",
    "print(L)\n",
    "\n",
    "\n",
    "### My Code\n",
    "\n",
    "from itertools import combinations_with_replacement\n",
    "from collections import Counter\n",
    "\n",
    "\n",
    "### (1) finding simple and complex fractions\n",
    "\n",
    "#*********************************--------------------------\n",
    "# Very important--------------------------------------------\n",
    "# when you convert back from set to list, use sorted() as list() does not preserve order\n",
    "#-----------------------------------------------------------------------------\n",
    "#********************************\n",
    "L = sorted(set(L)) \n",
    "# print('Here is L:')\n",
    "# print(L)\n",
    "\n",
    "fractions = [x for x in combinations_with_replacement(L, 2)]\n",
    "fractions\n",
    "# print(fractions)\n",
    "# simplify fraction\n",
    "fractions = [( round( x[0] / (gcd(x[0],x[1]))) , round( x[1] / (gcd(x[0],x[1])))) for x in fractions]\n",
    "\n",
    "# print(fractions)\n",
    "len_of_fractions = [ len(str(x[0])+str(x[1])) for x in fractions]\n",
    "\n",
    "\n",
    "#--------------------------------------------------------------------------\n",
    "# as I did it in the first time, it's more efficient to do combinations and just add (1, 1) at the end\n",
    "# b/c \"with_replacement\" only adds (1, 1) case\n",
    "#---------------------------------------------------------------------------\n",
    "\n",
    "\n",
    "\n",
    "size_of_simplest_fraction = min(len_of_fractions)\n",
    "size_of_most_complex_fraction = max(len_of_fractions)\n",
    "\n",
    "simplest_fractions = [x for x in fractions if len(str(x[0])+str(x[1])) == size_of_simplest_fraction]\n",
    "simplest_fractions = list(set(simplest_fractions))\n",
    "simplest_fractions = sorted(simplest_fractions, key=lambda x: x[0] / x[1])\n",
    "most_complex_fractions = [x for x in fractions if len(str(x[0])+str(x[1])) == size_of_most_complex_fraction]\n",
    "most_complex_fractions = list(set(most_complex_fractions))\n",
    "most_complex_fractions = sorted(most_complex_fractions, key=lambda x: x[0] / x[1], reverse=True)\n",
    "\n",
    "#print(simplest_fractions)\n",
    "#print(most_complex_fractions)\n",
    "\n",
    "### (2) finding multiplicity of prime factors\n",
    "\n",
    "# ------------------------------------------------------------------\n",
    "# Note: \"multiplicity\" should be the Ah-ha! momement to use Counter\n",
    "# ------------------------------------------------------------------\n",
    "\n",
    "L = [x[1] for x in most_complex_fractions]\n",
    "\n",
    "#-------------------------------------------------------------\n",
    "# this is probably the best algorithm\n",
    "#------------------------------------------------------------\n",
    "\n",
    "primes_list = []\n",
    "for x in L:\n",
    "    # factors out primes one by one allowing for multiplicity\n",
    "    primes = []\n",
    "    i = 2\n",
    "    while (i <= x):\n",
    "        while (x % i == 0):\n",
    "            x //= i\n",
    "            primes.append(i)\n",
    "        i += 1\n",
    "    \n",
    "    primes_list.append(Counter(primes))\n",
    "\n",
    "\n",
    "if bool(primes_list[0]) == False:\n",
    "    multiplicity_of_largest_prime_factor = 0\n",
    "    largest_prime_factors = []\n",
    "else:\n",
    "    multiplicity_of_largest_prime_factor = max([x.most_common(1)[0][1] for x in primes_list])\n",
    "    #-----------------------------------------------------------\n",
    "    # note below for multiple occurence of max    \n",
    "    #------------------------------------------------------------\n",
    "    largest_prime_factors = [y for x in primes_list for y, count in x.most_common() if count == multiplicity_of_largest_prime_factor]\n",
    "    largest_prime_factors  = sorted(set(largest_prime_factors)) \n",
    "\n"
   ]
  },
  {
   "cell_type": "markdown",
   "metadata": {},
   "source": [
    "<div class=\"alert alert-info\" style=\"font-size:150%\">Quiz 3 - Redo - 2 hours</div>"
   ]
  },
  {
   "cell_type": "code",
   "execution_count": 156,
   "metadata": {
    "scrolled": true
   },
   "outputs": [
    {
     "data": {
      "text/plain": [
       "0.0676923076923077"
      ]
     },
     "execution_count": 156,
     "metadata": {},
     "output_type": "execute_result"
    },
    {
     "data": {
      "text/plain": [
       "[1958, 1961, 1962, 1970, 1973, 1975, 1977, 1978, 1979, 1980, 1981, 1982, 1983]"
      ]
     },
     "execution_count": 156,
     "metadata": {},
     "output_type": "execute_result"
    }
   ],
   "source": [
    "import sys, os\n",
    "import csv\n",
    "\n",
    "filename = 'monthly_csv.csv'\n",
    "if not os.path.exists(filename):\n",
    "    print(f'There is no file named {filename} in the working directory, giving up...')\n",
    "    sys.exit()\n",
    "    \n",
    "source = 'GISTEMP' # 'GCAG' # 'GISTEMP'\n",
    "year_or_range_of_years = ' 1983 -- 1958   '\n",
    "month = 'January'\n",
    "average = 0\n",
    "years_above_average = []\n",
    "\n",
    "### My Code ###########################################\n",
    "\n",
    "import numpy as np\n",
    "from datetime import datetime\n",
    "\n",
    "### (1) checking input format\n",
    "\n",
    "year_or_range_of_years = year_or_range_of_years.strip()\n",
    "years_list = year_or_range_of_years.split(\"--\")\n",
    "\n",
    "if '' in years_list:\n",
    "    sys.exit()\n",
    "\n",
    "years_list = sorted(set([int(x.strip()) for x in years_list]))   # recall idiom to get distinct elements sorted\n",
    "year1 = years_list[0]\n",
    "#----------\n",
    "# originally, I tested if the years are the same, but this is better\n",
    "year2 = years_list[-1]\n",
    "\n",
    "\n",
    "months = {'January': 1, 'February': 2, 'March': 3, 'April': 4, 'May': 5, 'June': 6, 'July': 7, 'August': 8, 'September': 9, 'October': 10, 'November': 11, 'December': 12}\n",
    "\n",
    "if month not in months:\n",
    "    sys.exit()\n",
    "    \n",
    "sources = ('GCAG', 'GISTEMP')\n",
    "\n",
    "if source not in sources:\n",
    "    sys.exit()\n",
    "\n",
    "### (2) reading file\n",
    "\n",
    "GCAG = []\n",
    "GISTEMP = []\n",
    "#-----------------------------------\n",
    "# my original solution was good as below\n",
    "#-----------------------------------\n",
    "sources = {'GCAG': GCAG ,'GISTEMP': GISTEMP}\n",
    "\n",
    "\n",
    "with open(filename, 'r') as f:\n",
    "    reader = csv.reader(f)\n",
    "    header = next(reader)    \n",
    "    for row in reader:\n",
    "        sources[row[0]].append([datetime.strptime(row[1], '%Y-%m-%d'), float(row[2])])\n",
    "        \n",
    "#####################################################################\n",
    "#  --- I need to figure out how to fo filture in numpy later\n",
    "#-----------------------------------------------\n",
    "#--------This was hard---overall, let's not use numpy until the end\n",
    "# I ended up using my original code\n",
    "##################################################################\n",
    "filtered = np.array([x for x in sources[source] if x[0].year >= year1 and x[0].year <= year2 and x[0].month == months[month]])\n",
    "average = np.mean(filtered[:,1])   # no need to use statistics module\n",
    "        \n",
    "years_above_average = sorted([x[0].year for x in filtered if x[1] > average])\n",
    "average\n",
    "years_above_average\n",
    "\n"
   ]
  },
  {
   "cell_type": "code",
   "execution_count": 15,
   "metadata": {},
   "outputs": [
    {
     "data": {
      "text/plain": [
       "['GCAG', '2016-12-06', '0.7895']"
      ]
     },
     "execution_count": 15,
     "metadata": {},
     "output_type": "execute_result"
    },
    {
     "data": {
      "text/plain": [
       "['GISTEMP', '2016-12-06', '0.81']"
      ]
     },
     "execution_count": 15,
     "metadata": {},
     "output_type": "execute_result"
    },
    {
     "data": {
      "text/plain": [
       "['GCAG', '2016-11-06', '0.7504']"
      ]
     },
     "execution_count": 15,
     "metadata": {},
     "output_type": "execute_result"
    },
    {
     "data": {
      "text/plain": [
       "['GISTEMP', '2016-11-06', '0.93']"
      ]
     },
     "execution_count": 15,
     "metadata": {},
     "output_type": "execute_result"
    },
    {
     "data": {
      "text/plain": [
       "['Source', 'Date', 'Mean']"
      ]
     },
     "execution_count": 15,
     "metadata": {},
     "output_type": "execute_result"
    }
   ],
   "source": [
    "import csv\n",
    "filename = 'monthly_csv.csv'\n",
    "with open(filename, 'r') as f:\n",
    "    reader = csv.reader(f)\n",
    "    header = next(reader)\n",
    "    next(reader)\n",
    "    next(reader)\n",
    "    next(reader)\n",
    "    next(reader)\n",
    "\n",
    "header"
   ]
  },
  {
   "cell_type": "code",
   "execution_count": null,
   "metadata": {},
   "outputs": [],
   "source": []
  }
 ],
 "metadata": {
  "kernelspec": {
   "display_name": "Python 3",
   "language": "python",
   "name": "python3"
  },
  "language_info": {
   "codemirror_mode": {
    "name": "ipython",
    "version": 3
   },
   "file_extension": ".py",
   "mimetype": "text/x-python",
   "name": "python",
   "nbconvert_exporter": "python",
   "pygments_lexer": "ipython3",
   "version": "3.6.5"
  }
 },
 "nbformat": 4,
 "nbformat_minor": 2
}
