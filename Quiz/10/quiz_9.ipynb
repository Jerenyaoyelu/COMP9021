{
 "cells": [
  {
   "cell_type": "code",
   "execution_count": 136,
   "metadata": {},
   "outputs": [
    {
     "name": "stdout",
     "output_type": "stream",
     "text": [
      "Enter two integers, with the second one between 0 and 10: 0 10\n"
     ]
    },
    {
     "data": {
      "text/plain": [
       "True"
      ]
     },
     "execution_count": 136,
     "metadata": {},
     "output_type": "execute_result"
    },
    {
     "data": {
      "text/plain": [
       "True"
      ]
     },
     "execution_count": 136,
     "metadata": {},
     "output_type": "execute_result"
    },
    {
     "data": {
      "text/plain": [
       "True"
      ]
     },
     "execution_count": 136,
     "metadata": {},
     "output_type": "execute_result"
    },
    {
     "data": {
      "text/plain": [
       "True"
      ]
     },
     "execution_count": 136,
     "metadata": {},
     "output_type": "execute_result"
    },
    {
     "data": {
      "text/plain": [
       "True"
      ]
     },
     "execution_count": 136,
     "metadata": {},
     "output_type": "execute_result"
    },
    {
     "data": {
      "text/plain": [
       "True"
      ]
     },
     "execution_count": 136,
     "metadata": {},
     "output_type": "execute_result"
    },
    {
     "data": {
      "text/plain": [
       "True"
      ]
     },
     "execution_count": 136,
     "metadata": {},
     "output_type": "execute_result"
    },
    {
     "data": {
      "text/plain": [
       "True"
      ]
     },
     "execution_count": 136,
     "metadata": {},
     "output_type": "execute_result"
    },
    {
     "data": {
      "text/plain": [
       "True"
      ]
     },
     "execution_count": 136,
     "metadata": {},
     "output_type": "execute_result"
    },
    {
     "data": {
      "text/plain": [
       "True"
      ]
     },
     "execution_count": 136,
     "metadata": {},
     "output_type": "execute_result"
    },
    {
     "name": "stdout",
     "output_type": "stream",
     "text": [
      "        1   4\n",
      "         2   5               9\n",
      "           3               8\n",
      "       0               7\n",
      "               6\n"
     ]
    }
   ],
   "source": [
    "# Randomly generates a binary search tree with values from 0 up to 9, and displays it growing up.\n",
    "#\n",
    "# Written by *** and Eric Martin for COMP9021\n",
    "\n",
    "\n",
    "import sys\n",
    "from random import seed, choice\n",
    "from binary_tree_adt import *\n",
    "\n",
    "def visit_tree(tree,height,d,direction = ''):\n",
    "    if tree is not None and tree.value is not None:\n",
    "        d[direction] = tree.value\n",
    "        visit_tree(tree.left_node,height,d,direction + 'L')\n",
    "        visit_tree(tree.right_node,height,d,direction + 'R')\n",
    "#index in matrix but also the number of space    \n",
    "def calculate_index(s,h):\n",
    "    length = len(s)\n",
    "    i = h - length\n",
    "    if s == '':\n",
    "        j = 2**h-1\n",
    "        return i,j\n",
    "    j = 2**h-1\n",
    "    k = 0\n",
    "    while k < length:\n",
    "        if s[k] == 'R':\n",
    "            j += 2**(h-k-1)\n",
    "        else:\n",
    "            j -= 2**(h-k-1)\n",
    "        k +=1\n",
    "    return i,j \n",
    "#use a dictionary to record the location info of each node\n",
    "def record_tree(n_d,h):\n",
    "    location = {}\n",
    "    for e in n_d:\n",
    "        i,j = calculate_index(e,h)\n",
    "        location[(j,n_d[e])] = i\n",
    "    return location\n",
    "\n",
    "def print_growing_up(tree,n_d):\n",
    "    height = tree.height()\n",
    "    tree_d = record_tree(n_d,height)\n",
    "    for i in range(height+1):\n",
    "        t = 0\n",
    "        for e in tree_d:\n",
    "            if tree_d[e] == i:\n",
    "                print(' '*(e[0]-t-1),e[1], end = '')\n",
    "                t = e[0] +1\n",
    "        print()\n",
    "try:\n",
    "    seed_arg, nb_of_nodes = (int(x) for x in\n",
    "                              input('Enter two integers, with the second one between 0 and 10: '\n",
    "                                   ).split()\n",
    "                            )\n",
    "    if nb_of_nodes < 0 or nb_of_nodes > 10:\n",
    "        raise ValueError\n",
    "except ValueError:\n",
    "    print('Incorrect input, giving up.')\n",
    "    sys.exit()\n",
    "\n",
    "seed(seed_arg)\n",
    "data_pool = list(range(nb_of_nodes))\n",
    "tree = BinaryTree()\n",
    "for _ in range(nb_of_nodes):\n",
    "    datum = choice(data_pool)\n",
    "    tree.insert_in_bst(datum)\n",
    "    data_pool.remove(datum)\n",
    "node_d={}\n",
    "visit_tree(tree,tree.height(),node_d)\n",
    "print_growing_up(tree,node_d)"
   ]
  },
  {
   "cell_type": "code",
   "execution_count": 119,
   "metadata": {},
   "outputs": [],
   "source": [
    "from IPython.core.interactiveshell import InteractiveShell\n",
    "InteractiveShell.ast_node_interactivity = \"all\""
   ]
  },
  {
   "cell_type": "code",
   "execution_count": null,
   "metadata": {},
   "outputs": [],
   "source": [
    "a= (1,None)"
   ]
  },
  {
   "cell_type": "code",
   "execution_count": 8,
   "metadata": {},
   "outputs": [],
   "source": [
    "a[1]"
   ]
  },
  {
   "cell_type": "code",
   "execution_count": 55,
   "metadata": {},
   "outputs": [
    {
     "data": {
      "text/plain": [
       "[[None, 0, None, None],\n",
       " [None, 0, None, None],\n",
       " [None, 0, None, None],\n",
       " [None, 0, None, None]]"
      ]
     },
     "execution_count": 55,
     "metadata": {},
     "output_type": "execute_result"
    }
   ],
   "source": [
    "a=[[None]*4]*4\n",
    "a[1][1]=0\n",
    "a"
   ]
  },
  {
   "cell_type": "code",
   "execution_count": 63,
   "metadata": {},
   "outputs": [
    {
     "data": {
      "text/plain": [
       "[[1, 2], [2, 1]]"
      ]
     },
     "execution_count": 63,
     "metadata": {},
     "output_type": "execute_result"
    }
   ],
   "source": [
    "b=[[1,2],[2,3]]\n",
    "b[1][1]=1\n",
    "b"
   ]
  },
  {
   "cell_type": "code",
   "execution_count": null,
   "metadata": {},
   "outputs": [],
   "source": []
  },
  {
   "cell_type": "code",
   "execution_count": 67,
   "metadata": {},
   "outputs": [
    {
     "data": {
      "text/plain": [
       "{'': 1}"
      ]
     },
     "execution_count": 67,
     "metadata": {},
     "output_type": "execute_result"
    }
   ],
   "source": [
    "d={}\n",
    "d['']=1\n",
    "d"
   ]
  },
  {
   "cell_type": "code",
   "execution_count": 69,
   "metadata": {},
   "outputs": [
    {
     "data": {
      "text/plain": [
       "'LR'"
      ]
     },
     "execution_count": 69,
     "metadata": {},
     "output_type": "execute_result"
    }
   ],
   "source": [
    "''+'L'+'R'"
   ]
  },
  {
   "cell_type": "code",
   "execution_count": 117,
   "metadata": {},
   "outputs": [
    {
     "data": {
      "text/plain": [
       "4495474952"
      ]
     },
     "execution_count": 117,
     "metadata": {},
     "output_type": "execute_result"
    },
    {
     "data": {
      "text/plain": [
       "4495474952"
      ]
     },
     "execution_count": 117,
     "metadata": {},
     "output_type": "execute_result"
    },
    {
     "data": {
      "text/plain": [
       "4495474952"
      ]
     },
     "execution_count": 117,
     "metadata": {},
     "output_type": "execute_result"
    },
    {
     "data": {
      "text/plain": [
       "4495474952"
      ]
     },
     "execution_count": 117,
     "metadata": {},
     "output_type": "execute_result"
    }
   ],
   "source": [
    "a=[[-1]*4]*4\n",
    "id(a[0])\n",
    "id(a[1])\n",
    "id(a[2])\n",
    "id(a[3])\n",
    "# b = [1,2]\n",
    "# c = b\n",
    "# b[0] = 0\n",
    "# c"
   ]
  },
  {
   "cell_type": "code",
   "execution_count": null,
   "metadata": {},
   "outputs": [],
   "source": []
  }
 ],
 "metadata": {
  "kernelspec": {
   "display_name": "Python 3",
   "language": "python",
   "name": "python3"
  },
  "language_info": {
   "codemirror_mode": {
    "name": "ipython",
    "version": 3
   },
   "file_extension": ".py",
   "mimetype": "text/x-python",
   "name": "python",
   "nbconvert_exporter": "python",
   "pygments_lexer": "ipython3",
   "version": "3.6.5"
  },
  "toc": {
   "base_numbering": 1,
   "nav_menu": {},
   "number_sections": true,
   "sideBar": true,
   "skip_h1_title": false,
   "title_cell": "Table of Contents",
   "title_sidebar": "Contents",
   "toc_cell": false,
   "toc_position": {},
   "toc_section_display": true,
   "toc_window_display": false
  }
 },
 "nbformat": 4,
 "nbformat_minor": 2
}
